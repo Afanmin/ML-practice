{
 "cells": [
  {
   "cell_type": "code",
   "execution_count": 65,
   "metadata": {},
   "outputs": [],
   "source": [
    "from numpy import *\n",
    "import numpy as np\n",
    "import matplotlib.pyplot as plt\n",
    "import padasip as pa \n",
    "import scipy.io as sio \n",
    "import random\n",
    "import math\n",
    "from scipy.stats import multivariate_normal\n",
    "from math import log\n",
    "from random import randint\n",
    "hat='/Users/minyifan/Desktop/courses in semester A/Machine Learning/pa2/PA2-cluster-data/cluster_data.mat'\n",
    "data = sio.loadmat(hat)\n",
    "dataA_X=data['dataA_X']\n",
    "dataA_Y=data['dataA_Y']\n",
    "dataB_X=data['dataB_X']\n",
    "dataB_Y=data['dataB_Y']\n",
    "dataC_X=data['dataC_X']\n",
    "dataC_Y=data['dataC_Y']\n"
   ]
  },
  {
   "cell_type": "code",
   "execution_count": 86,
   "metadata": {},
   "outputs": [],
   "source": [
    "# 用于判断初始聚类簇中的means是否距离离得比较近\n",
    "def isdistance(means,criterion=0.03):\n",
    "    K=len(means)\n",
    "    for i in range(K):\n",
    "        for j in range(i+1,K):\n",
    "            if criterion>np.linalg.norm(means[i]-means[j]):\n",
    "                return False\n",
    "    return True\n",
    "\n",
    "def GMM(data,K):\n",
    "    N = data.shape[0]\n",
    "    dim = data.shape[1]\n",
    "    means= rand_k_means(data,K)[0]\n",
    "   # print(means)\n",
    "    #print(\"233\")\n",
    "    convs=[0]*K\n",
    "    # 初始方差等于整体data的方差\n",
    "    for i in range(K):\n",
    "        convs[i]=np.cov(data.T)\n",
    "    pis = [1.0/K] * K\n",
    "    gammas = [np.zeros(K) for i in range(N)]\n",
    "    loglikelyhood = 0\n",
    "    oldloglikelyhood = 1\n",
    "\n",
    "    while np.abs(loglikelyhood - oldloglikelyhood) > 0.0001:\n",
    "        oldloglikelyhood = loglikelyhood\n",
    "\n",
    "        # E步\n",
    "        for i in range(N):\n",
    "            res = [pis[k] * Gaussian(data[i],means[k],convs[k]) for k in range(K)]\n",
    "            sumres = np.sum(res)\n",
    "            for k in range(K):           # gamma表示第n个样本属于第k个混合高斯的概率\n",
    "                gammas[i][k] = res[k] / sumres\n",
    "        # M步\n",
    "        for k in range(K):\n",
    "            Nk = np.sum([gammas[n][k] for n in range(N)])  # N[k] 表示N个样本中有多少属于第k个高斯\n",
    "            pis[k] = 1.0 * Nk/N\n",
    "            means[k] = (1.0/Nk)*np.sum([gammas[n][k] * data[n] for n in range(N)],axis=0)\n",
    "            xdiffs = data - means[k]\n",
    "            convs[k] = (1.0/ Nk)*np.sum([gammas[n][k]* xdiffs[n].reshape(dim,1) * xdiffs[n] for  n in range(N)],axis=0)\n",
    "        # 计算最大似然函数\n",
    "        loglikelyhood = np.sum(\n",
    "            [np.log(np.sum([pis[k] * Gaussian(data[n], means[k], convs[k]) for k in range(K)])) for n in range(N)])\n",
    "\n",
    "        #print (means)\n",
    "        #print (loglikelyhood)\n",
    "    for i in range(N):\n",
    "        res = [pis[k] * Gaussian(data[i],means[k],convs[k]) for k in range(K)]\n",
    "        sumres = np.sum(res)\n",
    "        for k in range(K):           # gamma表示第n个样本属于第k个混合高斯的概率\n",
    "            gammas[i][k] = res[k] / sumres\n",
    "    gammas=np.mat(gammas)\n",
    "    labels=gammas.argmax(axis=1).flatten().tolist()[0]\n",
    "    return labels\n"
   ]
  },
  {
   "cell_type": "code",
   "execution_count": 66,
   "metadata": {},
   "outputs": [],
   "source": [
    "import copy as cp"
   ]
  },
  {
   "cell_type": "code",
   "execution_count": 67,
   "metadata": {},
   "outputs": [],
   "source": [
    "from numpy import *\n",
    "import numpy as np\n",
    "import matplotlib.pyplot as plt\n",
    "import padasip as pa \n",
    "import scipy.io as sio \n",
    "import random\n",
    "import math\n",
    "from scipy.stats import multivariate_normal\n",
    "from math import log\n",
    "from random import randint\n",
    "#here is k_means\n",
    "def distance(a,b):\n",
    "    return math.sqrt((a-b)*(a-b).T)\n",
    "\n",
    "#find the nearest central point for each point\n",
    "def mindis(data,init):\n",
    "    L=[]\n",
    "    j=100\n",
    "    for a in data:\n",
    "        test = float(\"inf\")\n",
    "        for b in range(init.shape[0]):\n",
    "            if test>distance(a,init[b]):\n",
    "                test=distance(a,init[b])\n",
    "                j=b\n",
    "        L.append([test,j])\n",
    "    return L\n",
    "\n",
    "#count the number of points appointed to each central point and the sum of distance\n",
    "def clust_dis(mindis,init_n):\n",
    "    count=np.zeros((init_n,1))\n",
    "    total=np.zeros((init_n,1))\n",
    "    for a in range(shape(mindis)[0]):\n",
    "        count[mindis[a][1]]+=1\n",
    "        total[mindis[a][1]]+=mindis[a][0]\n",
    "    return count,total\n",
    "\n",
    "#count the new kmean centre\n",
    "def count_mean(data,mindis,init_n,count):\n",
    "    d=data.shape[1]\n",
    "    new_cent=np.zeros((init_n,d))\n",
    "    for a in range(shape(data)[0]):\n",
    "        new_cent[mindis[a][1]]+=data[a]\n",
    "    for i in range(shape(new_cent)[0]):\n",
    "        new_cent[i]=new_cent[i]/count[i]\n",
    "    return new_cent\n",
    "\n",
    "#kmeans function\n",
    "def k_means(data,init,tol=0.01):\n",
    "    dis_min=mindis(data,init)\n",
    "    count_old,total_old=clust_dis(dis_min,shape(init)[0])\n",
    "    \n",
    "    old_centr=init\n",
    "    new_centr=count_mean(data.getA(),dis_min,shape(init)[0],count_old)\n",
    "    dis_min=mindis(data,new_centr)\n",
    "    count_new,total_new=clust_dis(dis_min,shape(init)[0])\n",
    "    \n",
    "    while(sum(total_new-total_old)>tol):\n",
    "        old_centr=new_centr\n",
    "        count_old=count_new\n",
    "        total_old=total_new\n",
    "        dis_min=mindis(data,new_centr)\n",
    "        count_new,total_new=clust_dis(dis_min,shape(init)[0])\n",
    "        new_centr=count_mean(data.getA(),dis_min,shape(init)[0],count_old)\n",
    "    return new_centr,np.array(dis_min)[:,1]\n",
    "\n",
    "def sort(data,lable,init_n):\n",
    "    l=[]\n",
    "    for i in range(init_n):\n",
    "        a=[]\n",
    "        for j in range(data.shape[0]):\n",
    "            if (lable[j]==i):\n",
    "                a.append(data[j])\n",
    "        l.append(array(a))\n",
    "    return array(l)\n",
    "\n",
    "def informationEntropy(lst):#try to use entropy to choose classification but abandoned\n",
    "    num = len(lst)\n",
    "    numberofNoRepeat = dict()\n",
    "    for data in lst:\n",
    "        numberofNoRepeat[data] = numberofNoRepeat.get(data,0) + 1\n",
    "    #print(numberofNoRepeat.values())\n",
    "    return abs(sum(list(map(lambda x: x/num * log(x/num,2), numberofNoRepeat.values()))))\n",
    "       \n",
    "def k_means(data,init,tol=0.001,silent=True):\n",
    "    dis_min=mindis(data,init)\n",
    "    count_old,total_old=clust_dis(dis_min,shape(init)[0])\n",
    "    \n",
    "    old_centr=init\n",
    "    new_centr=count_mean(data.getA(),dis_min,shape(init)[0],count_old)\n",
    "    #return old_centr,new_centr\n",
    "    dis_min=mindis(data,new_centr)\n",
    "    count_new,total_new=clust_dis(dis_min,shape(init)[0])\n",
    "    if (not silent):\n",
    "        print(new_centr)\n",
    "    while(sum(abs(total_new-total_old))>tol):\n",
    "        #print(\"bbbbbb\")\n",
    "        old_centr=new_centr+0\n",
    "        count_old=count_new+0\n",
    "        total_old=total_new+0\n",
    "        new_centr=count_mean(data.getA(),dis_min,shape(init)[0],count_old)\n",
    "        #return dis_min,mindis(data,new_centr)\n",
    "        dis_min=mindis(data,new_centr)\n",
    "        count_new,total_new=clust_dis(dis_min,shape(init)[0])\n",
    "        if (not silent):\n",
    "            print(new_centr)\n",
    "        #visualize(data, np.array(dis_min)[:,1])\n",
    "    return new_centr,np.array(dis_min)[:,1]       \n",
    "def rand_k_means(data,k,tol=0.01):\n",
    "    N,D=data.shape\n",
    "    #init=randCent(data,k)\n",
    "    init=np.mat(random.sample(data.tolist(),k))\n",
    "    return k_means(data,init,tol)"
   ]
  },
  {
   "cell_type": "code",
   "execution_count": 62,
   "metadata": {},
   "outputs": [],
   "source": [
    "def Gaussian(data,mean,cov):\n",
    "    #print(mean)\n",
    "    #print(cov)\n",
    "    #print(data)\n",
    "    dim = np.shape(cov)[0]   # 计算维度\n",
    "    covdet = np.linalg.det(cov) # 计算|cov|\n",
    "    covinv = np.linalg.inv(cov) # 计算cov的逆\n",
    "    if covdet==0:              # 以防行列式为0\n",
    "        covdet = np.linalg.det(cov+np.eye(dim)*0.01)\n",
    "        covinv = np.linalg.inv(cov+np.eye(dim)*0.01)\n",
    "    m = data - mean\n",
    "    #print(m,covinv)\n",
    "    z = -0.5 * np.dot(np.dot(m, covinv),m.T)    # 计算exp()里的值\n",
    "    return 1.0/(np.power(np.power(2*np.pi,dim)*abs(covdet),0.5))*np.exp(z)  # 返回概率密度值\n"
   ]
  },
  {
   "cell_type": "code",
   "execution_count": 87,
   "metadata": {},
   "outputs": [],
   "source": [
    "labels=GMM(np.mat(dataA_X.T),4)"
   ]
  },
  {
   "cell_type": "code",
   "execution_count": 88,
   "metadata": {},
   "outputs": [
    {
     "data": {
      "image/png": "[encoded data removed]",
      "text/plain": [
       "<Figure size 432x288 with 1 Axes>"
      ]
     },
     "metadata": {},
     "output_type": "display_data"
    }
   ],
   "source": [
    "import matplotlib.pyplot as plt\n",
    "from itertools import cycle\n",
    "\n",
    "\n",
    "def visualize(data, labels):\n",
    "    color = 'bgrym'\n",
    "    unique_label = np.unique(labels)\n",
    "    for col, label in zip(cycle(color), unique_label):\n",
    "        partial_data = data[np.where(labels == label)]\n",
    "        plt.scatter(partial_data[:, 0], partial_data[:, 1], color=col)\n",
    "    plt.show()\n",
    "    return \n",
    "visualize(dataA_X.T, labels)"
   ]
  },
  {
   "cell_type": "code",
   "execution_count": 55,
   "metadata": {},
   "outputs": [],
   "source": [
    "k=np.mat([1,2])"
   ]
  },
  {
   "cell_type": "code",
   "execution_count": 56,
   "metadata": {},
   "outputs": [
    {
     "data": {
      "text/plain": [
       "(1, 2)"
      ]
     },
     "execution_count": 56,
     "metadata": {},
     "output_type": "execute_result"
    }
   ],
   "source": [
    "k.shape"
   ]
  },
  {
   "cell_type": "code",
   "execution_count": 59,
   "metadata": {},
   "outputs": [
    {
     "data": {
      "text/plain": [
       "matrix([[1, 2],\n",
       "        [2, 4]])"
      ]
     },
     "execution_count": 59,
     "metadata": {},
     "output_type": "execute_result"
    }
   ],
   "source": [
    "k.T*k"
   ]
  },
  {
   "cell_type": "code",
   "execution_count": 80,
   "metadata": {},
   "outputs": [],
   "source": [
    "labels=np.mat(labels).argmax(axis=1).flatten().tolist()[0]"
   ]
  },
  {
   "cell_type": "code",
   "execution_count": null,
   "metadata": {},
   "outputs": [],
   "source": []
  },
  {
   "cell_type": "code",
   "execution_count": null,
   "metadata": {},
   "outputs": [],
   "source": []
  }
 ],
 "metadata": {
  "kernelspec": {
   "display_name": "Python 3",
   "language": "python",
   "name": "python3"
  },
  "language_info": {
   "codemirror_mode": {
    "name": "ipython",
    "version": 3
   },
   "file_extension": ".py",
   "mimetype": "text/x-python",
   "name": "python",
   "nbconvert_exporter": "python",
   "pygments_lexer": "ipython3",
   "version": "3.5.4"
  }
 },
 "nbformat": 4,
 "nbformat_minor": 2
}
