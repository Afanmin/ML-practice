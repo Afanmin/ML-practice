{
 "cells": [
  {
   "cell_type": "code",
   "execution_count": 3,
   "metadata": {},
   "outputs": [
    {
     "data": {
      "text/plain": [
       "<Figure size 640x480 with 1 Axes>"
      ]
     },
     "metadata": {},
     "output_type": "display_data"
    }
   ],
   "source": [
    "from collections import defaultdict\n",
    "import numpy as np\n",
    "import math\n",
    "\n",
    "\n",
    "class MeanShift:\n",
    "    def __init__(self, epsilon=1e-5, band_width=2, min_fre=3, bin_seeding=False):\n",
    "        self.epsilon = epsilon\n",
    "        self.band_width = band_width\n",
    "        self.min_fre = min_fre  # 可以作为起始质心的球体内最少的样本数目\n",
    "        self.bin_seeding = bin_seeding\n",
    "        self.radius2 = self.band_width ** 2  # 高维球体半径的平方\n",
    "\n",
    "        self.N = None\n",
    "        self.labels = None\n",
    "        self.centers = []\n",
    "        self.center_score = []\n",
    "\n",
    "    def init_param(self, data):\n",
    "        # 初始化参数\n",
    "        self.N = data.shape[0]\n",
    "        self.labels = -1 * np.ones(self.N)\n",
    "        return\n",
    "\n",
    "    def get_seeds(self, data):\n",
    "        # 获取可以作为起始质心的点（seed）\n",
    "        if self.bin_seeding:\n",
    "            binsize = self.band_width\n",
    "        else:\n",
    "            binsize = 1\n",
    "        seed_list = []\n",
    "        seeds_fre = defaultdict(int)\n",
    "        for sample in data:\n",
    "            seed = tuple(np.round(sample / binsize))  # 将数据粗粒化，以防止非常近的样本点都作为起始质心\n",
    "            seeds_fre[seed] += 1\n",
    "        for seed, fre in seeds_fre.items():\n",
    "            if fre >= self.min_fre:\n",
    "                seed_list.append(np.array(seed))\n",
    "        if not seed_list:\n",
    "            raise ValueError('the bin size and min_fre are not proper')\n",
    "        return seed_list\n",
    "\n",
    "    def euclidean_dis2(self, center, sample):\n",
    "        # 计算均值点到每个样本点的欧式距离（平方）\n",
    "        delta = center - sample\n",
    "        return delta @ delta\n",
    "\n",
    "    def gaussian_kel(self, dis2):\n",
    "        # 计算高斯核\n",
    "        return 1.0 / self.band_width * (2 * math.pi) ** (-1.0 / 2) * math.exp(-dis2 / (2 * self.band_width ** 2))\n",
    "\n",
    "    def shift_center(self, current_center, data, tmp_center_score):\n",
    "        # 计算下一个漂移的坐标\n",
    "        denominator = 0  # 分母\n",
    "        numerator = np.zeros_like(current_center)  # 分子, 一维数组形式\n",
    "        for ind, sample in enumerate(data):\n",
    "            dis2 = self.euclidean_dis2(current_center, sample)\n",
    "            if dis2 <= self.radius2:\n",
    "                tmp_center_score += 1\n",
    "            d = self.gaussian_kel(dis2)\n",
    "            denominator += d\n",
    "            numerator += d * sample\n",
    "        return numerator / denominator\n",
    "\n",
    "    def classify(self, data):\n",
    "        # 根据最近邻将数据分类到最近的簇中\n",
    "        center_arr = np.array(self.centers)\n",
    "        for i in range(self.N):\n",
    "            delta = center_arr - data[i]\n",
    "            dis2 = np.sum(delta * delta, axis=1)\n",
    "            self.labels[i] = np.argmin(dis2)\n",
    "        return\n",
    "\n",
    "    def fit(self, data):\n",
    "        # 训练主函数\n",
    "        self.init_param(data)\n",
    "        seed_list = self.get_seeds(data)\n",
    "        for seed in seed_list:\n",
    "            current_center = seed\n",
    "            tmp_center_score = 0\n",
    "            # 进行一次独立的均值漂移\n",
    "            while True:\n",
    "                next_center = self.shift_center(current_center, data, tmp_center_score)\n",
    "                delta_dis = np.linalg.norm(next_center - current_center, 2)\n",
    "                if delta_dis < self.epsilon:\n",
    "                    break\n",
    "                current_center = next_center\n",
    "            # 若该次漂移结束后，最终的质心与已存在的质心距离小于带宽，则合并\n",
    "            for i in range(len(self.centers)):\n",
    "                if np.linalg.norm(current_center - self.centers[i], 2) < self.band_width:\n",
    "                    if tmp_center_score > self.center_score[i]:\n",
    "                        self.centers[i] = current_center\n",
    "                        self.center_score[i] = tmp_center_score\n",
    "                    break\n",
    "            else:\n",
    "                self.centers.append(current_center)\n",
    "                self.center_score.append(tmp_center_score)\n",
    "        self.classify(data)\n",
    "        return"
   ]
  },
  {
   "cell_type": "code",
   "execution_count": 4,
   "metadata": {},
   "outputs": [
    {
     "data": {
      "image/png": "[encoded data removed]",
      "text/plain": [
       "<Figure size 432x288 with 1 Axes>"
      ]
     },
     "metadata": {},
     "output_type": "display_data"
    }
   ],
   "source": [
    "from sklearn.datasets import make_blobs\n",
    "\n",
    "data, label = make_blobs(n_samples=500, centers=5, cluster_std=1.2, random_state=5)\n",
    "MS = MeanShift(band_width=1.5)\n",
    "MS.fit(data)\n",
    "labels = MS.labels\n",
    "import matplotlib.pyplot as plt\n",
    "from itertools import cycle\n",
    "\n",
    "\n",
    "def visualize(data, labels):\n",
    "    color = 'bgrym'\n",
    "    unique_label = np.unique(labels)\n",
    "    for col, label in zip(cycle(color), unique_label):\n",
    "        partial_data = data[np.where(labels == label)]\n",
    "        plt.scatter(partial_data[:, 0], partial_data[:, 1], color=col)\n",
    "    plt.show()\n",
    "    return \n",
    "visualize(data, labels)"
   ]
  },
  {
   "cell_type": "code",
   "execution_count": null,
   "metadata": {},
   "outputs": [],
   "source": []
  }
 ],
 "metadata": {
  "kernelspec": {
   "display_name": "Python 3",
   "language": "python",
   "name": "python3"
  },
  "language_info": {
   "codemirror_mode": {
    "name": "ipython",
    "version": 3
   },
   "file_extension": ".py",
   "mimetype": "text/x-python",
   "name": "python",
   "nbconvert_exporter": "python",
   "pygments_lexer": "ipython3",
   "version": "3.5.4"
  }
 },
 "nbformat": 4,
 "nbformat_minor": 2
}
