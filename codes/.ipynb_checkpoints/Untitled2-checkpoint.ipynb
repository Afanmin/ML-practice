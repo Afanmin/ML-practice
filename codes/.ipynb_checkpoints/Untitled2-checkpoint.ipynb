{
 "cells": [
  {
   "cell_type": "code",
   "execution_count": 14,
   "metadata": {
    "scrolled": false
   },
   "outputs": [
    {
     "name": "stderr",
     "output_type": "stream",
     "text": [
      "Exception in thread Thread-34:\n",
      "Traceback (most recent call last):\n",
      "  File \"/Users/minyifan/anaconda3/lib/python3.5/threading.py\", line 914, in _bootstrap_inner\n",
      "    self.run()\n",
      "  File \"/Users/minyifan/anaconda3/lib/python3.5/threading.py\", line 862, in run\n",
      "    self._target(*self._args, **self._kwargs)\n",
      "TypeError: single_thread() missing 1 required positional argument: 'codes'\n",
      "\n"
     ]
    },
    {
     "name": "stdout",
     "output_type": "stream",
     "text": [
      "b''b''\n",
      "\n",
      "b''\n",
      "b''b''\n",
      "\n",
      "b''\n",
      "b''\n",
      "b''\n",
      "b''\n",
      "b''\n",
      "b''\n",
      "b''\n",
      "b''\n",
      "b''b''\n",
      "\n",
      "b''b''\n",
      "\n",
      "b''\n"
     ]
    }
   ],
   "source": [
    "import urllib3\n",
    "import threading\n",
    "def display_info(code):\n",
    "    url = 'http://hq.sinajs.cn/list='+code\n",
    "    HTML = urllib3.PoolManager()\n",
    "    response = HTML.urlopen(url,url)\n",
    "    javascript_info =response.read()\n",
    "    print(javascript_info)\n",
    "    \n",
    "def single_thread(codes):\n",
    "    for code in codes:\n",
    "        code = code.strip()\n",
    "        display_info(code)\n",
    "def multi_thread(tasks):\n",
    "    threads = [threading.Thread(target=single_thread,args= (codes)) for codes in tasks]\n",
    "    for t in threads:\n",
    "        t.start()\n",
    "    for t in threads:\n",
    "        t.join()\n",
    "if __name__=='__main__':\n",
    "    codes = ['600001','600002','600003','600004']\n",
    "    thread_len = int(len(codes)/4)\n",
    "    t1 = codes[0:thread_len]\n",
    "    t2 = codes[thread_len:thread_len*2]\n",
    "    t3 = codes[thread_len*3:thread_len*3]\n",
    "    t4 = codes[thread_len*3:]\n",
    "    \n",
    "    multi_thread([t1,t2,t3,t4])"
   ]
  },
  {
   "cell_type": "code",
   "execution_count": null,
   "metadata": {},
   "outputs": [],
   "source": []
  },
  {
   "cell_type": "code",
   "execution_count": null,
   "metadata": {},
   "outputs": [],
   "source": []
  }
 ],
 "metadata": {
  "kernelspec": {
   "display_name": "Python 3",
   "language": "python",
   "name": "python3"
  },
  "language_info": {
   "codemirror_mode": {
    "name": "ipython",
    "version": 3
   },
   "file_extension": ".py",
   "mimetype": "text/x-python",
   "name": "python",
   "nbconvert_exporter": "python",
   "pygments_lexer": "ipython3",
   "version": "3.5.4"
  }
 },
 "nbformat": 4,
 "nbformat_minor": 2
}
