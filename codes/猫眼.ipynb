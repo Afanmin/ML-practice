{
 "cells": [
  {
   "cell_type": "code",
   "execution_count": 22,
   "metadata": {},
   "outputs": [],
   "source": [
    "url='http://maoyan.com/board/4?'"
   ]
  },
  {
   "cell_type": "code",
   "execution_count": 25,
   "metadata": {},
   "outputs": [],
   "source": [
    "import requests\n",
    "from requests.exceptions import RequestException\n",
    "import re"
   ]
  },
  {
   "cell_type": "code",
   "execution_count": 14,
   "metadata": {},
   "outputs": [],
   "source": [
    "def get_one_page(url):\n",
    "    try:\n",
    "        response = requests.get(url)\n",
    "        if response.status_code == 200:\n",
    "            return response.text\n",
    "        return None\n",
    "    except RequestException:\n",
    "        return None\n"
   ]
  },
  {
   "cell_type": "code",
   "execution_count": 43,
   "metadata": {},
   "outputs": [],
   "source": [
    "def parse_one_page(html):\n",
    "    pattern = re.compile('<dd>.*?board-index.*?>(\\d+)</i>.*?data-src=\"(.*?)\".*?title=\"(.*?)\".*?\"star\">(.*?)</p>.*?\"releasetime\">(.*?)</p>.*?\"integer\">(.*?)</i>',re.S)\n",
    "    items=re.findall(pattern,html)\n",
    "    return items"
   ]
  },
  {
   "cell_type": "code",
   "execution_count": 31,
   "metadata": {},
   "outputs": [],
   "source": [
    "response = requests.get(url)"
   ]
  },
  {
   "cell_type": "code",
   "execution_count": 44,
   "metadata": {},
   "outputs": [
    {
     "data": {
      "text/plain": [
       "[('1',\n",
       "  'https://p1.meituan.net/movie/20803f59291c47e1e116c11963ce019e68711.jpg@160w_220h_1e_1c',\n",
       "  '霸王别姬',\n",
       "  '\\n                主演：杨永超,宋小川,张进战\\n        ',\n",
       "  '上映时间：1993-01-01',\n",
       "  '9.'),\n",
       " ('2',\n",
       "  'https://p0.meituan.net/movie/283292171619cdfd5b240c8fd093f1eb255670.jpg@160w_220h_1e_1c',\n",
       "  '肖申克的救赎',\n",
       "  '\\n                主演：乔·劳格诺,斯科特·曼,约翰·霍顿\\n        ',\n",
       "  '上映时间：1994-10-14(美国)',\n",
       "  '9.'),\n",
       " ('3',\n",
       "  'https://p0.meituan.net/movie/54617769d96807e4d81804284ffe2a27239007.jpg@160w_220h_1e_1c',\n",
       "  '罗马假日',\n",
       "  '\\n                主演：Margaret Rawlings,保拉·布鲁布尼,里佐·弗雷多里佐\\n        ',\n",
       "  '上映时间：1953-09-02(美国)',\n",
       "  '9.'),\n",
       " ('4',\n",
       "  'https://p0.meituan.net/movie/e55ec5d18ccc83ba7db68caae54f165f95924.jpg@160w_220h_1e_1c',\n",
       "  '这个杀手不太冷',\n",
       "  '\\n                主演：Willi One Blood,唐·克里奇,Keith A. Glascoe\\n        ',\n",
       "  '上映时间：1994-09-14(法国)',\n",
       "  '9.'),\n",
       " ('5',\n",
       "  'https://p1.meituan.net/movie/f5a924f362f050881f2b8f82e852747c118515.jpg@160w_220h_1e_1c',\n",
       "  '教父',\n",
       "  '\\n                主演：乔·斯皮内尔,Salvatore Corsitto,Tere Livrano\\n        ',\n",
       "  '上映时间：1972-03-24(美国)',\n",
       "  '9.'),\n",
       " ('6',\n",
       "  'https://p1.meituan.net/movie/0699ac97c82cf01638aa5023562d6134351277.jpg@160w_220h_1e_1c',\n",
       "  '泰坦尼克号',\n",
       "  '\\n                主演：Scott Anderson,莱昂纳多·迪卡普里奥,凯特·温丝莱特\\n        ',\n",
       "  '上映时间：1998-04-03',\n",
       "  '9.'),\n",
       " ('7',\n",
       "  'https://p0.meituan.net/movie/da64660f82b98cdc1b8a3804e69609e041108.jpg@160w_220h_1e_1c',\n",
       "  '唐伯虎点秋香',\n",
       "  '\\n                主演：李绮霞,王凤琼,梁绮丽\\n        ',\n",
       "  '上映时间：1993-07-01(中国香港)',\n",
       "  '9.'),\n",
       " ('8',\n",
       "  'https://p0.meituan.net/movie/b076ce63e9860ecf1ee9839badee5228329384.jpg@160w_220h_1e_1c',\n",
       "  '千与千寻',\n",
       "  '\\n                主演：杰森·马斯登,苏珊娜·普莱薛特,鲍伯·伯根\\n        ',\n",
       "  '上映时间：2001-07-20(日本)',\n",
       "  '9.'),\n",
       " ('9',\n",
       "  'https://p0.meituan.net/movie/46c29a8b8d8424bdda7715e6fd779c66235684.jpg@160w_220h_1e_1c',\n",
       "  '魂断蓝桥',\n",
       "  '\\n                主演：Leda Nicova,Lowden Adams,Harry Allen\\n        ',\n",
       "  '上映时间：1940-05-17(美国)',\n",
       "  '9.'),\n",
       " ('10',\n",
       "  'https://p0.meituan.net/movie/230e71d398e0c54730d58dc4bb6e4cca51662.jpg@160w_220h_1e_1c',\n",
       "  '乱世佳人',\n",
       "  '\\n                主演：Jackie Moran,米基·库恩,欧文·培根\\n        ',\n",
       "  '上映时间：1939-12-15(美国)',\n",
       "  '9.')]"
      ]
     },
     "execution_count": 44,
     "metadata": {},
     "output_type": "execute_result"
    }
   ],
   "source": [
    "parse_one_page(response.text)"
   ]
  },
  {
   "cell_type": "code",
   "execution_count": null,
   "metadata": {},
   "outputs": [],
   "source": [
    "'<dd>,*?board-index.*?>(\\d+)</i>.*?data-src=\"(.*?)\".*?title=\"(.*?)\".*?\"star\">(.*?)</p>.*?\"releasetime\">(.*?)</p>.*?\"integer\">(.*?)</i>'"
   ]
  }
 ],
 "metadata": {
  "kernelspec": {
   "display_name": "Python 3",
   "language": "python",
   "name": "python3"
  },
  "language_info": {
   "codemirror_mode": {
    "name": "ipython",
    "version": 3
   },
   "file_extension": ".py",
   "mimetype": "text/x-python",
   "name": "python",
   "nbconvert_exporter": "python",
   "pygments_lexer": "ipython3",
   "version": "3.5.4"
  }
 },
 "nbformat": 4,
 "nbformat_minor": 2
}
