{
 "cells": [
  {
   "cell_type": "code",
   "execution_count": 2,
   "metadata": {},
   "outputs": [],
   "source": [
    "import matplotlib.pyplot as plt\n",
    "import numpy as np"
   ]
  },
  {
   "cell_type": "code",
   "execution_count": 6,
   "metadata": {},
   "outputs": [
    {
     "data": {
      "image/png": "[encoded data removed]",
      "text/plain": [
       "<matplotlib.figure.Figure at 0x108102710>"
      ]
     },
     "metadata": {},
     "output_type": "display_data"
    }
   ],
   "source": [
    "plt.plot([1, 2, 3, 4], [1, 4, 9, 16])\n",
    "plt.axis([0, 6, 0, 20])\n",
    "plt.show()"
   ]
  },
  {
   "cell_type": "code",
   "execution_count": 49,
   "metadata": {},
   "outputs": [
    {
     "data": {
      "text/plain": [
       "[-2, 6, 0, 160]"
      ]
     },
     "execution_count": 49,
     "metadata": {},
     "output_type": "execute_result"
    },
    {
     "data": {
      "image/png": "[encoded data removed]",
      "text/plain": [
       "<matplotlib.figure.Figure at 0x110ee1b70>"
      ]
     },
     "metadata": {},
     "output_type": "display_data"
    }
   ],
   "source": [
    "t1 = np.arange(0,5,0.01)\n",
    "def f(t):\n",
    "    return 2*np.exp(t)\n",
    "plt.plot(t1,f(t1),'k')\n",
    "plt.axis([-2,6,0,160])"
   ]
  },
  {
   "cell_type": "code",
   "execution_count": 13,
   "metadata": {},
   "outputs": [],
   "source": [
    "t2=np.arange(-5,0,0.01)"
   ]
  },
  {
   "cell_type": "code",
   "execution_count": 17,
   "metadata": {},
   "outputs": [],
   "source": [
    "t3=np.concatenate((t2,t1),axis = 0)"
   ]
  },
  {
   "cell_type": "code",
   "execution_count": 20,
   "metadata": {},
   "outputs": [
    {
     "data": {
      "text/plain": [
       "7.3890560989306504"
      ]
     },
     "execution_count": 20,
     "metadata": {},
     "output_type": "execute_result"
    }
   ],
   "source": [
    "def ff(t):\n",
    "    if(t<0):\n",
    "        return 0\n",
    "    else:\n",
    "        return np.exp(t)\n",
    "ff(2)"
   ]
  },
  {
   "cell_type": "code",
   "execution_count": 22,
   "metadata": {},
   "outputs": [
    {
     "ename": "NameError",
     "evalue": "name 'apply' is not defined",
     "output_type": "error",
     "traceback": [
      "\u001b[0;31m---------------------------------------------------------------------------\u001b[0m",
      "\u001b[0;31mNameError\u001b[0m                                 Traceback (most recent call last)",
      "\u001b[0;32m<ipython-input-22-d7c23a7689ff>\u001b[0m in \u001b[0;36m<module>\u001b[0;34m()\u001b[0m\n\u001b[0;32m----> 1\u001b[0;31m \u001b[0mapply\u001b[0m\u001b[0;34m\u001b[0m\u001b[0m\n\u001b[0m",
      "\u001b[0;31mNameError\u001b[0m: name 'apply' is not defined"
     ]
    }
   ],
   "source": [
    "apply"
   ]
  },
  {
   "cell_type": "code",
   "execution_count": 23,
   "metadata": {},
   "outputs": [
    {
     "data": {
      "text/plain": [
       "0.01"
      ]
     },
     "execution_count": 23,
     "metadata": {},
     "output_type": "execute_result"
    }
   ],
   "source": [
    "t1[1]"
   ]
  },
  {
   "cell_type": "code",
   "execution_count": 24,
   "metadata": {},
   "outputs": [
    {
     "data": {
      "text/plain": [
       "0.0"
      ]
     },
     "execution_count": 24,
     "metadata": {},
     "output_type": "execute_result"
    }
   ],
   "source": [
    "t1[0]"
   ]
  },
  {
   "cell_type": "code",
   "execution_count": 25,
   "metadata": {},
   "outputs": [
    {
     "data": {
      "text/plain": [
       "numpy.ndarray"
      ]
     },
     "execution_count": 25,
     "metadata": {},
     "output_type": "execute_result"
    }
   ],
   "source": [
    "type(t1)"
   ]
  },
  {
   "cell_type": "code",
   "execution_count": 45,
   "metadata": {},
   "outputs": [],
   "source": [
    "t0 =map(lambda n: n if n>0 else 0,t3)"
   ]
  },
  {
   "cell_type": "code",
   "execution_count": 46,
   "metadata": {},
   "outputs": [],
   "source": [
    "tt0=np.array(list(t0))"
   ]
  },
  {
   "cell_type": "code",
   "execution_count": 47,
   "metadata": {},
   "outputs": [
    {
     "data": {
      "text/plain": [
       "array([ 0.  ,  0.  ,  0.  ,  0.  ,  0.  ,  0.  ,  0.  ,  0.  ,  0.  ,\n",
       "        0.  ,  0.  ,  0.  ,  0.  ,  0.  ,  0.  ,  0.  ,  0.  ,  0.  ,\n",
       "        0.  ,  0.  ,  0.  ,  0.  ,  0.  ,  0.  ,  0.  ,  0.  ,  0.  ,\n",
       "        0.  ,  0.  ,  0.  ,  0.  ,  0.  ,  0.  ,  0.  ,  0.  ,  0.  ,\n",
       "        0.  ,  0.  ,  0.  ,  0.  ,  0.  ,  0.  ,  0.  ,  0.  ,  0.  ,\n",
       "        0.  ,  0.  ,  0.  ,  0.  ,  0.  ,  0.  ,  0.  ,  0.  ,  0.  ,\n",
       "        0.  ,  0.  ,  0.  ,  0.  ,  0.  ,  0.  ,  0.  ,  0.  ,  0.  ,\n",
       "        0.  ,  0.  ,  0.  ,  0.  ,  0.  ,  0.  ,  0.  ,  0.  ,  0.  ,\n",
       "        0.  ,  0.  ,  0.  ,  0.  ,  0.  ,  0.  ,  0.  ,  0.  ,  0.  ,\n",
       "        0.  ,  0.  ,  0.  ,  0.  ,  0.  ,  0.  ,  0.  ,  0.  ,  0.  ,\n",
       "        0.  ,  0.  ,  0.  ,  0.  ,  0.  ,  0.  ,  0.  ,  0.  ,  0.  ,\n",
       "        0.  ,  0.  ,  0.  ,  0.  ,  0.  ,  0.  ,  0.  ,  0.  ,  0.  ,\n",
       "        0.  ,  0.  ,  0.  ,  0.  ,  0.  ,  0.  ,  0.  ,  0.  ,  0.  ,\n",
       "        0.  ,  0.  ,  0.  ,  0.  ,  0.  ,  0.  ,  0.  ,  0.  ,  0.  ,\n",
       "        0.  ,  0.  ,  0.  ,  0.  ,  0.  ,  0.  ,  0.  ,  0.  ,  0.  ,\n",
       "        0.  ,  0.  ,  0.  ,  0.  ,  0.  ,  0.  ,  0.  ,  0.  ,  0.  ,\n",
       "        0.  ,  0.  ,  0.  ,  0.  ,  0.  ,  0.  ,  0.  ,  0.  ,  0.  ,\n",
       "        0.  ,  0.  ,  0.  ,  0.  ,  0.  ,  0.  ,  0.  ,  0.  ,  0.  ,\n",
       "        0.  ,  0.  ,  0.  ,  0.  ,  0.  ,  0.  ,  0.  ,  0.  ,  0.  ,\n",
       "        0.  ,  0.  ,  0.  ,  0.  ,  0.  ,  0.  ,  0.  ,  0.  ,  0.  ,\n",
       "        0.  ,  0.  ,  0.  ,  0.  ,  0.  ,  0.  ,  0.  ,  0.  ,  0.  ,\n",
       "        0.  ,  0.  ,  0.  ,  0.  ,  0.  ,  0.  ,  0.  ,  0.  ,  0.  ,\n",
       "        0.  ,  0.  ,  0.  ,  0.  ,  0.  ,  0.  ,  0.  ,  0.  ,  0.  ,\n",
       "        0.  ,  0.  ,  0.  ,  0.  ,  0.  ,  0.  ,  0.  ,  0.  ,  0.  ,\n",
       "        0.  ,  0.  ,  0.  ,  0.  ,  0.  ,  0.  ,  0.  ,  0.  ,  0.  ,\n",
       "        0.  ,  0.  ,  0.  ,  0.  ,  0.  ,  0.  ,  0.  ,  0.  ,  0.  ,\n",
       "        0.  ,  0.  ,  0.  ,  0.  ,  0.  ,  0.  ,  0.  ,  0.  ,  0.  ,\n",
       "        0.  ,  0.  ,  0.  ,  0.  ,  0.  ,  0.  ,  0.  ,  0.  ,  0.  ,\n",
       "        0.  ,  0.  ,  0.  ,  0.  ,  0.  ,  0.  ,  0.  ,  0.  ,  0.  ,\n",
       "        0.  ,  0.  ,  0.  ,  0.  ,  0.  ,  0.  ,  0.  ,  0.  ,  0.  ,\n",
       "        0.  ,  0.  ,  0.  ,  0.  ,  0.  ,  0.  ,  0.  ,  0.  ,  0.  ,\n",
       "        0.  ,  0.  ,  0.  ,  0.  ,  0.  ,  0.  ,  0.  ,  0.  ,  0.  ,\n",
       "        0.  ,  0.  ,  0.  ,  0.  ,  0.  ,  0.  ,  0.  ,  0.  ,  0.  ,\n",
       "        0.  ,  0.  ,  0.  ,  0.  ,  0.  ,  0.  ,  0.  ,  0.  ,  0.  ,\n",
       "        0.  ,  0.  ,  0.  ,  0.  ,  0.  ,  0.  ,  0.  ,  0.  ,  0.  ,\n",
       "        0.  ,  0.  ,  0.  ,  0.  ,  0.  ,  0.  ,  0.  ,  0.  ,  0.  ,\n",
       "        0.  ,  0.  ,  0.  ,  0.  ,  0.  ,  0.  ,  0.  ,  0.  ,  0.  ,\n",
       "        0.  ,  0.  ,  0.  ,  0.  ,  0.  ,  0.  ,  0.  ,  0.  ,  0.  ,\n",
       "        0.  ,  0.  ,  0.  ,  0.  ,  0.  ,  0.  ,  0.  ,  0.  ,  0.  ,\n",
       "        0.  ,  0.  ,  0.  ,  0.  ,  0.  ,  0.  ,  0.  ,  0.  ,  0.  ,\n",
       "        0.  ,  0.  ,  0.  ,  0.  ,  0.  ,  0.  ,  0.  ,  0.  ,  0.  ,\n",
       "        0.  ,  0.  ,  0.  ,  0.  ,  0.  ,  0.  ,  0.  ,  0.  ,  0.  ,\n",
       "        0.  ,  0.  ,  0.  ,  0.  ,  0.  ,  0.  ,  0.  ,  0.  ,  0.  ,\n",
       "        0.  ,  0.  ,  0.  ,  0.  ,  0.  ,  0.  ,  0.  ,  0.  ,  0.  ,\n",
       "        0.  ,  0.  ,  0.  ,  0.  ,  0.  ,  0.  ,  0.  ,  0.  ,  0.  ,\n",
       "        0.  ,  0.  ,  0.  ,  0.  ,  0.  ,  0.  ,  0.  ,  0.  ,  0.  ,\n",
       "        0.  ,  0.  ,  0.  ,  0.  ,  0.  ,  0.  ,  0.  ,  0.  ,  0.  ,\n",
       "        0.  ,  0.  ,  0.  ,  0.  ,  0.  ,  0.  ,  0.  ,  0.  ,  0.  ,\n",
       "        0.  ,  0.  ,  0.  ,  0.  ,  0.  ,  0.  ,  0.  ,  0.  ,  0.  ,\n",
       "        0.  ,  0.  ,  0.  ,  0.  ,  0.  ,  0.  ,  0.  ,  0.  ,  0.  ,\n",
       "        0.  ,  0.  ,  0.  ,  0.  ,  0.  ,  0.  ,  0.  ,  0.  ,  0.  ,\n",
       "        0.  ,  0.  ,  0.  ,  0.  ,  0.  ,  0.  ,  0.  ,  0.  ,  0.  ,\n",
       "        0.  ,  0.  ,  0.  ,  0.  ,  0.  ,  0.  ,  0.  ,  0.  ,  0.  ,\n",
       "        0.  ,  0.  ,  0.  ,  0.  ,  0.  ,  0.  ,  0.  ,  0.  ,  0.  ,\n",
       "        0.  ,  0.  ,  0.  ,  0.  ,  0.  ,  0.  ,  0.  ,  0.  ,  0.  ,\n",
       "        0.  ,  0.  ,  0.  ,  0.  ,  0.  ,  0.  ,  0.01,  0.02,  0.03,\n",
       "        0.04,  0.05,  0.06,  0.07,  0.08,  0.09,  0.1 ,  0.11,  0.12,\n",
       "        0.13,  0.14,  0.15,  0.16,  0.17,  0.18,  0.19,  0.2 ,  0.21,\n",
       "        0.22,  0.23,  0.24,  0.25,  0.26,  0.27,  0.28,  0.29,  0.3 ,\n",
       "        0.31,  0.32,  0.33,  0.34,  0.35,  0.36,  0.37,  0.38,  0.39,\n",
       "        0.4 ,  0.41,  0.42,  0.43,  0.44,  0.45,  0.46,  0.47,  0.48,\n",
       "        0.49,  0.5 ,  0.51,  0.52,  0.53,  0.54,  0.55,  0.56,  0.57,\n",
       "        0.58,  0.59,  0.6 ,  0.61,  0.62,  0.63,  0.64,  0.65,  0.66,\n",
       "        0.67,  0.68,  0.69,  0.7 ,  0.71,  0.72,  0.73,  0.74,  0.75,\n",
       "        0.76,  0.77,  0.78,  0.79,  0.8 ,  0.81,  0.82,  0.83,  0.84,\n",
       "        0.85,  0.86,  0.87,  0.88,  0.89,  0.9 ,  0.91,  0.92,  0.93,\n",
       "        0.94,  0.95,  0.96,  0.97,  0.98,  0.99,  1.  ,  1.01,  1.02,\n",
       "        1.03,  1.04,  1.05,  1.06,  1.07,  1.08,  1.09,  1.1 ,  1.11,\n",
       "        1.12,  1.13,  1.14,  1.15,  1.16,  1.17,  1.18,  1.19,  1.2 ,\n",
       "        1.21,  1.22,  1.23,  1.24,  1.25,  1.26,  1.27,  1.28,  1.29,\n",
       "        1.3 ,  1.31,  1.32,  1.33,  1.34,  1.35,  1.36,  1.37,  1.38,\n",
       "        1.39,  1.4 ,  1.41,  1.42,  1.43,  1.44,  1.45,  1.46,  1.47,\n",
       "        1.48,  1.49,  1.5 ,  1.51,  1.52,  1.53,  1.54,  1.55,  1.56,\n",
       "        1.57,  1.58,  1.59,  1.6 ,  1.61,  1.62,  1.63,  1.64,  1.65,\n",
       "        1.66,  1.67,  1.68,  1.69,  1.7 ,  1.71,  1.72,  1.73,  1.74,\n",
       "        1.75,  1.76,  1.77,  1.78,  1.79,  1.8 ,  1.81,  1.82,  1.83,\n",
       "        1.84,  1.85,  1.86,  1.87,  1.88,  1.89,  1.9 ,  1.91,  1.92,\n",
       "        1.93,  1.94,  1.95,  1.96,  1.97,  1.98,  1.99,  2.  ,  2.01,\n",
       "        2.02,  2.03,  2.04,  2.05,  2.06,  2.07,  2.08,  2.09,  2.1 ,\n",
       "        2.11,  2.12,  2.13,  2.14,  2.15,  2.16,  2.17,  2.18,  2.19,\n",
       "        2.2 ,  2.21,  2.22,  2.23,  2.24,  2.25,  2.26,  2.27,  2.28,\n",
       "        2.29,  2.3 ,  2.31,  2.32,  2.33,  2.34,  2.35,  2.36,  2.37,\n",
       "        2.38,  2.39,  2.4 ,  2.41,  2.42,  2.43,  2.44,  2.45,  2.46,\n",
       "        2.47,  2.48,  2.49,  2.5 ,  2.51,  2.52,  2.53,  2.54,  2.55,\n",
       "        2.56,  2.57,  2.58,  2.59,  2.6 ,  2.61,  2.62,  2.63,  2.64,\n",
       "        2.65,  2.66,  2.67,  2.68,  2.69,  2.7 ,  2.71,  2.72,  2.73,\n",
       "        2.74,  2.75,  2.76,  2.77,  2.78,  2.79,  2.8 ,  2.81,  2.82,\n",
       "        2.83,  2.84,  2.85,  2.86,  2.87,  2.88,  2.89,  2.9 ,  2.91,\n",
       "        2.92,  2.93,  2.94,  2.95,  2.96,  2.97,  2.98,  2.99,  3.  ,\n",
       "        3.01,  3.02,  3.03,  3.04,  3.05,  3.06,  3.07,  3.08,  3.09,\n",
       "        3.1 ,  3.11,  3.12,  3.13,  3.14,  3.15,  3.16,  3.17,  3.18,\n",
       "        3.19,  3.2 ,  3.21,  3.22,  3.23,  3.24,  3.25,  3.26,  3.27,\n",
       "        3.28,  3.29,  3.3 ,  3.31,  3.32,  3.33,  3.34,  3.35,  3.36,\n",
       "        3.37,  3.38,  3.39,  3.4 ,  3.41,  3.42,  3.43,  3.44,  3.45,\n",
       "        3.46,  3.47,  3.48,  3.49,  3.5 ,  3.51,  3.52,  3.53,  3.54,\n",
       "        3.55,  3.56,  3.57,  3.58,  3.59,  3.6 ,  3.61,  3.62,  3.63,\n",
       "        3.64,  3.65,  3.66,  3.67,  3.68,  3.69,  3.7 ,  3.71,  3.72,\n",
       "        3.73,  3.74,  3.75,  3.76,  3.77,  3.78,  3.79,  3.8 ,  3.81,\n",
       "        3.82,  3.83,  3.84,  3.85,  3.86,  3.87,  3.88,  3.89,  3.9 ,\n",
       "        3.91,  3.92,  3.93,  3.94,  3.95,  3.96,  3.97,  3.98,  3.99,\n",
       "        4.  ,  4.01,  4.02,  4.03,  4.04,  4.05,  4.06,  4.07,  4.08,\n",
       "        4.09,  4.1 ,  4.11,  4.12,  4.13,  4.14,  4.15,  4.16,  4.17,\n",
       "        4.18,  4.19,  4.2 ,  4.21,  4.22,  4.23,  4.24,  4.25,  4.26,\n",
       "        4.27,  4.28,  4.29,  4.3 ,  4.31,  4.32,  4.33,  4.34,  4.35,\n",
       "        4.36,  4.37,  4.38,  4.39,  4.4 ,  4.41,  4.42,  4.43,  4.44,\n",
       "        4.45,  4.46,  4.47,  4.48,  4.49,  4.5 ,  4.51,  4.52,  4.53,\n",
       "        4.54,  4.55,  4.56,  4.57,  4.58,  4.59,  4.6 ,  4.61,  4.62,\n",
       "        4.63,  4.64,  4.65,  4.66,  4.67,  4.68,  4.69,  4.7 ,  4.71,\n",
       "        4.72,  4.73,  4.74,  4.75,  4.76,  4.77,  4.78,  4.79,  4.8 ,\n",
       "        4.81,  4.82,  4.83,  4.84,  4.85,  4.86,  4.87,  4.88,  4.89,\n",
       "        4.9 ,  4.91,  4.92,  4.93,  4.94,  4.95,  4.96,  4.97,  4.98,  4.99])"
      ]
     },
     "execution_count": 47,
     "metadata": {},
     "output_type": "execute_result"
    }
   ],
   "source": [
    "tt0"
   ]
  },
  {
   "cell_type": "code",
   "execution_count": 3,
   "metadata": {},
   "outputs": [],
   "source": [
    "import scipy.io as sio "
   ]
  },
  {
   "cell_type": "code",
   "execution_count": 4,
   "metadata": {},
   "outputs": [],
   "source": [
    "mat='/Users/minyifan/Downloads/PA-1-data-matlab/poly_data.mat'"
   ]
  },
  {
   "cell_type": "code",
   "execution_count": 5,
   "metadata": {},
   "outputs": [],
   "source": [
    "data = sio.loadmat(mat)"
   ]
  },
  {
   "cell_type": "code",
   "execution_count": 72,
   "metadata": {},
   "outputs": [],
   "source": [
    "sampy=data['sampy']"
   ]
  },
  {
   "cell_type": "code",
   "execution_count": null,
   "metadata": {},
   "outputs": [],
   "source": []
  },
  {
   "cell_type": "code",
   "execution_count": 73,
   "metadata": {},
   "outputs": [],
   "source": [
    "sampx=data['sampx']"
   ]
  },
  {
   "cell_type": "code",
   "execution_count": 74,
   "metadata": {},
   "outputs": [],
   "source": [
    "polyx=data['polyx']"
   ]
  },
  {
   "cell_type": "code",
   "execution_count": 75,
   "metadata": {},
   "outputs": [],
   "source": [
    "polyy=data['polyy']"
   ]
  },
  {
   "cell_type": "code",
   "execution_count": 6,
   "metadata": {},
   "outputs": [
    {
     "data": {
      "text/plain": [
       "{'__globals__': [],\n",
       " '__header__': b'MATLAB 5.0 MAT-file, Platform: PCWIN, Created on: Thu Sep 13 17:24:52 2012',\n",
       " '__version__': '1.0',\n",
       " 'polyx': array([[-2.        , -1.95959596, -1.91919192, -1.87878788, -1.83838384,\n",
       "         -1.7979798 , -1.75757576, -1.71717172, -1.67676768, -1.63636364,\n",
       "         -1.5959596 , -1.55555556, -1.51515152, -1.47474747, -1.43434343,\n",
       "         -1.39393939, -1.35353535, -1.31313131, -1.27272727, -1.23232323,\n",
       "         -1.19191919, -1.15151515, -1.11111111, -1.07070707, -1.03030303,\n",
       "         -0.98989899, -0.94949495, -0.90909091, -0.86868687, -0.82828283,\n",
       "         -0.78787879, -0.74747475, -0.70707071, -0.66666667, -0.62626263,\n",
       "         -0.58585859, -0.54545455, -0.50505051, -0.46464646, -0.42424242,\n",
       "         -0.38383838, -0.34343434, -0.3030303 , -0.26262626, -0.22222222,\n",
       "         -0.18181818, -0.14141414, -0.1010101 , -0.06060606, -0.02020202,\n",
       "          0.02020202,  0.06060606,  0.1010101 ,  0.14141414,  0.18181818,\n",
       "          0.22222222,  0.26262626,  0.3030303 ,  0.34343434,  0.38383838,\n",
       "          0.42424242,  0.46464646,  0.50505051,  0.54545455,  0.58585859,\n",
       "          0.62626263,  0.66666667,  0.70707071,  0.74747475,  0.78787879,\n",
       "          0.82828283,  0.86868687,  0.90909091,  0.94949495,  0.98989899,\n",
       "          1.03030303,  1.07070707,  1.11111111,  1.15151515,  1.19191919,\n",
       "          1.23232323,  1.27272727,  1.31313131,  1.35353535,  1.39393939,\n",
       "          1.43434343,  1.47474747,  1.51515152,  1.55555556,  1.5959596 ,\n",
       "          1.63636364,  1.67676768,  1.71717172,  1.75757576,  1.7979798 ,\n",
       "          1.83838384,  1.87878788,  1.91919192,  1.95959596,  2.        ]]),\n",
       " 'polyy': array([[ 33.13444357],\n",
       "        [ 30.39822583],\n",
       "        [ 27.85027291],\n",
       "        [ 25.48045523],\n",
       "        [ 23.27903265],\n",
       "        [ 21.23664648],\n",
       "        [ 19.34431153],\n",
       "        [ 17.59340811],\n",
       "        [ 15.97567405],\n",
       "        [ 14.48319671],\n",
       "        [ 13.10840498],\n",
       "        [ 11.84406134],\n",
       "        [ 10.68325383],\n",
       "        [  9.61938812],\n",
       "        [  8.64617946],\n",
       "        [  7.75764474],\n",
       "        [  6.94809449],\n",
       "        [  6.21212493],\n",
       "        [  5.54460993],\n",
       "        [  4.94069305],\n",
       "        [  4.39577959],\n",
       "        [  3.90552855],\n",
       "        [  3.46584469],\n",
       "        [  3.07287052],\n",
       "        [  2.72297832],\n",
       "        [  2.41276218],\n",
       "        [  2.13902999],\n",
       "        [  1.89879546],\n",
       "        [  1.68927013],\n",
       "        [  1.50785542],\n",
       "        [  1.35213462],\n",
       "        [  1.21986488],\n",
       "        [  1.10896929],\n",
       "        [  1.01752884],\n",
       "        [  0.94377448],\n",
       "        [  0.88607907],\n",
       "        [  0.8429495 ],\n",
       "        [  0.81301859],\n",
       "        [  0.7950372 ],\n",
       "        [  0.78786619],\n",
       "        [  0.79046846],\n",
       "        [  0.80190097],\n",
       "        [  0.82130673],\n",
       "        [  0.84790685],\n",
       "        [  0.88099252],\n",
       "        [  0.91991706],\n",
       "        [  0.96408793],\n",
       "        [  1.01295872],\n",
       "        [  1.06602119],\n",
       "        [  1.12279729],\n",
       "        [  1.18283115],\n",
       "        [  1.24568113],\n",
       "        [  1.31091181],\n",
       "        [  1.37808601],\n",
       "        [  1.44675683],\n",
       "        [  1.51645964],\n",
       "        [  1.58670409],\n",
       "        [  1.65696615],\n",
       "        [  1.72668012],\n",
       "        [  1.79523065],\n",
       "        [  1.86194473],\n",
       "        [  1.92608373],\n",
       "        [  1.98683543],\n",
       "        [  2.04330598],\n",
       "        [  2.09451201],\n",
       "        [  2.13937252],\n",
       "        [  2.17670103],\n",
       "        [  2.2051975 ],\n",
       "        [  2.22344037],\n",
       "        [  2.22987861],\n",
       "        [  2.2228237 ],\n",
       "        [  2.20044165],\n",
       "        [  2.16074503],\n",
       "        [  2.10158498],\n",
       "        [  2.02064323],\n",
       "        [  1.9154241 ],\n",
       "        [  1.78324654],\n",
       "        [  1.62123613],\n",
       "        [  1.4263171 ],\n",
       "        [  1.19520434],\n",
       "        [  0.92439543],\n",
       "        [  0.61016266],\n",
       "        [  0.24854501],\n",
       "        [ -0.16465979],\n",
       "        [ -0.63390326],\n",
       "        [ -1.16389417],\n",
       "        [ -1.75960649],\n",
       "        [ -2.42628742],\n",
       "        [ -3.16946533],\n",
       "        [ -3.99495776],\n",
       "        [ -4.90887942],\n",
       "        [ -5.91765014],\n",
       "        [ -7.02800287],\n",
       "        [ -8.2469917 ],\n",
       "        [ -9.58199978],\n",
       "        [-11.04074733],\n",
       "        [-12.63129965],\n",
       "        [-14.36207506],\n",
       "        [-16.24185294],\n",
       "        [-18.27978163]]),\n",
       " 'sampx': array([[-1.31701448,  0.93763982, -1.08750007, -1.61368873, -1.2664458 ,\n",
       "         -1.15450337,  0.26177809, -0.29568377, -1.55716341,  0.75451085,\n",
       "          1.06393532,  1.56086716,  1.49433277, -0.74917179,  0.66964579,\n",
       "         -1.26324901,  0.57392856, -1.98265409,  1.53266188, -0.55170207,\n",
       "         -0.45675826, -0.73604465,  1.29749965, -0.92340095,  0.40030965,\n",
       "          0.00431016,  0.44082691,  0.97782642, -1.67139471,  0.86918266,\n",
       "          0.35288361, -1.08510231, -1.31458641,  1.74614486, -0.54335475,\n",
       "         -0.16332908, -1.07176633, -1.17663724,  0.25782398,  1.24760952,\n",
       "          0.57320232,  1.8113091 , -1.32787735, -1.63461874, -1.0371066 ,\n",
       "          1.34941838, -0.32533439,  0.10497248,  0.27242295, -1.38741825]]),\n",
       " 'sampy': array([[  6.47965192],\n",
       "        [  1.09919175],\n",
       "        [  4.75243053],\n",
       "        [ 16.56235455],\n",
       "        [  4.17810578],\n",
       "        [  3.36120385],\n",
       "        [  4.23118462],\n",
       "        [ -0.97410879],\n",
       "        [ 10.94580799],\n",
       "        [  1.14359713],\n",
       "        [ -0.37652906],\n",
       "        [ -3.26503797],\n",
       "        [  0.85582896],\n",
       "        [  2.09168256],\n",
       "        [  3.42754876],\n",
       "        [  3.70698418],\n",
       "        [  0.08245344],\n",
       "        [ 29.45766743],\n",
       "        [ -3.17956125],\n",
       "        [  1.31539133],\n",
       "        [ -1.04609201],\n",
       "        [ -1.53583514],\n",
       "        [ -0.65911162],\n",
       "        [  5.06620104],\n",
       "        [  1.65465833],\n",
       "        [ -2.40523045],\n",
       "        [  2.0633614 ],\n",
       "        [  2.06179902],\n",
       "        [ 14.61024387],\n",
       "        [  2.6361631 ],\n",
       "        [  2.84261831],\n",
       "        [  2.57038974],\n",
       "        [  0.57427209],\n",
       "        [ -7.39930808],\n",
       "        [  2.06860606],\n",
       "        [  1.27846582],\n",
       "        [  1.67050761],\n",
       "        [  3.51350844],\n",
       "        [ -2.86425815],\n",
       "        [  0.05188772],\n",
       "        [  2.42364808],\n",
       "        [-11.7391293 ],\n",
       "        [  4.88182033],\n",
       "        [ 13.74338877],\n",
       "        [  6.06959807],\n",
       "        [ -1.00978876],\n",
       "        [ -0.33102658],\n",
       "        [  2.92825467],\n",
       "        [ -0.06573705],\n",
       "        [  6.57644372]]),\n",
       " 'thtrue': array([[ 1.15243484],\n",
       "        [ 1.4862926 ],\n",
       "        [ 0.92950599],\n",
       "        [-1.11344191],\n",
       "        [ 0.15980451],\n",
       "        [-0.61788008]])}"
      ]
     },
     "execution_count": 6,
     "metadata": {},
     "output_type": "execute_result"
    }
   ],
   "source": [
    "data"
   ]
  },
  {
   "cell_type": "code",
   "execution_count": 1,
   "metadata": {},
   "outputs": [
    {
     "data": {
      "text/plain": [
       "<matplotlib.figure.Figure at 0x10f775748>"
      ]
     },
     "metadata": {},
     "output_type": "display_data"
    }
   ],
   "source": [
    "import numpy as np\n",
    "import matplotlib.pylab as plt\n",
    "import padasip as pa \n",
    "\n",
    "# creation of data\n",
    "N = 500\n",
    "x = np.random.normal(0, 1, (N, 4)) # input matrix\n",
    "v = np.random.normal(0, 0.1, N) # noise\n",
    "d = 2*x[:,0] + 0.1*x[:,1] - 4*x[:,2] + 0.5*x[:,3] + v # target\n",
    "\n",
    "# identification\n",
    "f = pa.filters.FilterRLS(n=4, mu=0.1, w=\"random\")\n",
    "y, e, w = f.run(d, x)\n",
    "\n",
    "# show results\n",
    "plt.figure(figsize=(15,9))\n",
    "plt.subplot(211);plt.title(\"Adaptation\");plt.xlabel(\"samples - k\")\n",
    "plt.plot(d,\"b\", label=\"d - target\")\n",
    "plt.plot(y,\"g\", label=\"y - output\");plt.legend()\n",
    "plt.subplot(212);plt.title(\"Filter error\");plt.xlabel(\"samples - k\")\n",
    "plt.plot(10*np.log10(e**2),\"r\", label=\"e - error [dB]\");plt.legend()\n",
    "plt.tight_layout()\n",
    "plt.show()"
   ]
  },
  {
   "cell_type": "code",
   "execution_count": 1,
   "metadata": {},
   "outputs": [
    {
     "data": {
      "text/plain": [
       "<matplotlib.figure.Figure at 0x10748d390>"
      ]
     },
     "metadata": {},
     "output_type": "display_data"
    }
   ],
   "source": [
    "import numpy as np\n",
    "import matplotlib.pyplot as plt\n",
    "from scipy import stats\n",
    "import time\n",
    "\n",
    "from sklearn.linear_model import BayesianRidge, LinearRegression\n",
    "\n",
    "###############################################################################\n",
    "# 随机函数的种子\n",
    "np.random.seed(int(time.time()) % 100)\n",
    "# 样本数目为100，特征数目也是100\n",
    "n_samples, n_features = 100, 100\n",
    "# 生成高斯分布\n",
    "X = np.random.randn(n_samples, n_features)\n",
    "# 首先使用alpha为4的先验分布.\n",
    "alpha_ = 4.\n",
    "w = np.zeros(n_features)\n",
    "# 随机提取10个特征出来作为样本特征\n",
    "relevant_features = np.random.randint(0, n_features, 10)\n",
    "# 基于先验分布，产生特征对应的初始权值\n",
    "for i in relevant_features:\n",
    "    w[i] = stats.norm.rvs(loc=0, scale=1. / np.sqrt(alpha_))\n",
    "\n",
    "# 产生alpha为50的噪声\n",
    "alpha_ = 50.\n",
    "noise = stats.norm.rvs(loc=0, scale=1. / np.sqrt(alpha_), size=n_samples)\n",
    "# 产生目标数据\n",
    "y = np.dot(X, w) + noise\n",
    "\n",
    "###############################################################################\n",
    "# 使用贝叶斯脊回归拟合数据\n",
    "clf = BayesianRidge(compute_score=True)\n",
    "clf.fit(X, y)\n",
    "\n",
    "# 使用最小二乘法拟合数据\n",
    "ols = LinearRegression()\n",
    "ols.fit(X, y)\n",
    "\n",
    "###############################################################################\n",
    "# 作图比较两个方法的结果\n",
    "plt.figure(figsize=(6, 5))\n",
    "plt.title(\"Weights of the model\")\n",
    "plt.plot(clf.coef_, 'b-', label=\"Bayesian Ridge estimate\")\n",
    "plt.plot(w, 'g-', label=\"Ground truth\")\n",
    "plt.plot(ols.coef_, 'r--', label=\"OLS estimate\")\n",
    "plt.xlabel(\"Features\")\n",
    "plt.ylabel(\"Values of the weights\")\n",
    "plt.legend(loc=\"best\", prop=dict(size=12))\n",
    "\n",
    "plt.show()"
   ]
  },
  {
   "cell_type": "code",
   "execution_count": null,
   "metadata": {},
   "outputs": [],
   "source": []
  }
 ],
 "metadata": {
  "kernelspec": {
   "display_name": "Python 3",
   "language": "python",
   "name": "python3"
  },
  "language_info": {
   "codemirror_mode": {
    "name": "ipython",
    "version": 3
   },
   "file_extension": ".py",
   "mimetype": "text/x-python",
   "name": "python",
   "nbconvert_exporter": "python",
   "pygments_lexer": "ipython3",
   "version": "3.5.4"
  }
 },
 "nbformat": 4,
 "nbformat_minor": 2
}
