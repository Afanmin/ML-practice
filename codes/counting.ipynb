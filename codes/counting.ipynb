{
 "cells": [
  {
   "cell_type": "code",
   "execution_count": 2,
   "metadata": {},
   "outputs": [],
   "source": [
    "from numpy import *\n",
    "import numpy as np\n",
    "import matplotlib.pyplot as plt\n",
    "import padasip as pa \n",
    "import scipy.io as sio "
   ]
  },
  {
   "cell_type": "code",
   "execution_count": 3,
   "metadata": {},
   "outputs": [],
   "source": [
    "hat='/Users/minyifan/Downloads/PA-1-data-matlab/count_data.mat'\n",
    "data = sio.loadmat(hat)\n",
    "trainx=data['trainx']\n",
    "trainy=data['trainy']\n",
    "testx=data['testx']\n",
    "testy=data['testy']\n"
   ]
  },
  {
   "cell_type": "code",
   "execution_count": 4,
   "metadata": {},
   "outputs": [
    {
     "name": "stdout",
     "output_type": "stream",
     "text": [
      "the shape of trainx,trainy,testx,testyis: (9, 400) (400, 1) (9, 600) (600, 1)\n"
     ]
    }
   ],
   "source": [
    "print(\"the shape of trainx,trainy,testx,testyis:\",trainx.shape,trainy.shape,testx.shape,testy.shape)"
   ]
  },
  {
   "cell_type": "code",
   "execution_count": 5,
   "metadata": {},
   "outputs": [
    {
     "data": {
      "text/plain": [
       "array([[-0.93896716, -0.96200988, -0.980555  , ...,  1.62394219,\n",
       "         1.70552069,  1.73774133],\n",
       "       [-0.84457345, -0.9232998 , -0.95890429, ...,  0.78163425,\n",
       "         0.85620397,  0.84933258],\n",
       "       [-0.79296073, -1.25768828, -1.26703836, ..., -0.70245778,\n",
       "        -0.42018279,  0.25436494],\n",
       "       ..., \n",
       "       [-0.76662328, -0.69537714, -0.68786399, ...,  0.926296  ,\n",
       "         1.1074946 ,  0.98860488],\n",
       "       [-0.20254792, -0.34836888, -0.26605002, ...,  0.34433165,\n",
       "         0.11780671, -0.29971809],\n",
       "       [ 0.99700929,  0.86680129,  0.85642082, ..., -1.77500257,\n",
       "        -1.77772332, -1.8113235 ]])"
      ]
     },
     "execution_count": 5,
     "metadata": {},
     "output_type": "execute_result"
    }
   ],
   "source": [
    "trainx"
   ]
  },
  {
   "cell_type": "code",
   "execution_count": null,
   "metadata": {},
   "outputs": [],
   "source": []
  }
 ],
 "metadata": {
  "kernelspec": {
   "display_name": "Python 3",
   "language": "python",
   "name": "python3"
  },
  "language_info": {
   "codemirror_mode": {
    "name": "ipython",
    "version": 3
   },
   "file_extension": ".py",
   "mimetype": "text/x-python",
   "name": "python",
   "nbconvert_exporter": "python",
   "pygments_lexer": "ipython3",
   "version": "3.5.4"
  }
 },
 "nbformat": 4,
 "nbformat_minor": 2
}
