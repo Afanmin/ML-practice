{
 "cells": [
  {
   "cell_type": "code",
   "execution_count": 1,
   "metadata": {
    "Collapsed": "false"
   },
   "outputs": [],
   "source": [
    "import tensorflow as tf\n",
    "import numpy as np\n",
    "import pandas as pd\n",
    "import matplotlib as mpl\n",
    "import matplotlib.pyplot as plt\n",
    "import sklearn \n",
    "import os\n",
    "import sys\n",
    "import time\n",
    "\n",
    "from tensorflow import keras\n",
    "from sklearn.preprocessing import StandardScaler"
   ]
  },
  {
   "cell_type": "code",
   "execution_count": 2,
   "metadata": {
    "Collapsed": "false"
   },
   "outputs": [
    {
     "name": "stdout",
     "output_type": "stream",
     "text": [
      "2.0.0\n"
     ]
    }
   ],
   "source": [
    "print(tf.__version__)"
   ]
  },
  {
   "cell_type": "code",
   "execution_count": 3,
   "metadata": {
    "Collapsed": "false"
   },
   "outputs": [],
   "source": [
    "fashion_mnist = keras.datasets.fashion_mnist\n",
    "(x_train_all,y_train_all),(x_test,y_test) = fashion_mnist.load_data()\n",
    "x_valid,x_train = x_train_all[:5000],x_train_all[5000:]\n",
    "y_valid,y_train = y_train_all[:5000],y_train_all[5000:]"
   ]
  },
  {
   "cell_type": "code",
   "execution_count": 4,
   "metadata": {
    "Collapsed": "false"
   },
   "outputs": [],
   "source": [
    "scaler = StandardScaler()\n",
    "\n",
    "x_train_scaled = scaler.fit_transform(\n",
    "    x_train.astype(np.float32).reshape(-1,1)).reshape(-1,28,28)\n",
    "x_valid_scaled = scaler.transform(\n",
    "    x_valid.astype(np.float32).reshape(-1,1)).reshape(-1,28,28)\n",
    "x_test_scaled = scaler.transform(\n",
    "    x_test.astype(np.float32).reshape(-1,1)).reshape(-1,28,28)\n",
    "\n"
   ]
  },
  {
   "cell_type": "code",
   "execution_count": null,
   "metadata": {
    "Collapsed": "false",
    "jupyter": {
     "source_hidden": true
    }
   },
   "outputs": [],
   "source": [
    "def show_single_image(img_arr):\n",
    "    plt.imshow(img_arr,cmap='binary')\n",
    "    plt.show()\n",
    "\n",
    "show_single_image(x_train[0])"
   ]
  },
  {
   "cell_type": "code",
   "execution_count": null,
   "metadata": {
    "Collapsed": "false",
    "jupyter": {
     "source_hidden": true
    }
   },
   "outputs": [],
   "source": [
    "def show_imgs(n_rows,n_cols,x_data,y_data,class_names):\n",
    "    assert len(x_data) == len(y_data)\n",
    "    \n",
    "    plt.figure(figsize=(n_cols*1.4,n_rows*1.6))\n",
    "    for row in range(n_rows):\n",
    "        for col in range(n_cols):\n",
    "            index = n_cols*row +col\n",
    "            plt.subplot(n_rows,n_cols,index+1)\n",
    "            plt.imshow(x_data[index],cmap='binary',interpolation='nearest')\n",
    "            plt.axis('off')\n",
    "            plt.title(class_names[y_data[index]])\n",
    "    plt.show()\n",
    "\n",
    "class_name = ['T-shirt','Trouser','p','d','c','s','shirt','sneaker','b','a']\n"
   ]
  },
  {
   "cell_type": "code",
   "execution_count": null,
   "metadata": {
    "Collapsed": "false",
    "jupyter": {
     "source_hidden": true
    }
   },
   "outputs": [],
   "source": [
    "show_imgs(3,5,x_train,y_train,class_name)"
   ]
  },
  {
   "cell_type": "code",
   "execution_count": 5,
   "metadata": {
    "Collapsed": "false"
   },
   "outputs": [],
   "source": [
    "model = keras.models.Sequential()\n",
    "model.add(keras.layers.Flatten(input_shape = [28,28]))\n",
    "for _ in range(20):\n",
    "    model.add(keras.layers.Dense(100,activation='selu'))\n",
    "  #  model.add(keras.layers.BatchNormalization())\n",
    "    \n",
    "# model.add(keras.layers.Dense(300,activation = 'relu'))\n",
    "# model.add(keras.layers.Dense(100,activation = 'relu'))\n",
    "model.add(keras.layers.Dense(10,activation = 'softmax'))\n",
    "\n",
    "\n",
    "\n",
    "model.compile(loss = 'sparse_categorical_crossentropy',optimizer = 'sgd', metrics = ['accuracy'])\n"
   ]
  },
  {
   "cell_type": "code",
   "execution_count": null,
   "metadata": {
    "Collapsed": "false",
    "jupyter": {
     "source_hidden": true
    }
   },
   "outputs": [],
   "source": [
    "model.layers"
   ]
  },
  {
   "cell_type": "code",
   "execution_count": null,
   "metadata": {
    "Collapsed": "false",
    "jupyter": {
     "source_hidden": true
    }
   },
   "outputs": [],
   "source": [
    "model.summary()"
   ]
  },
  {
   "cell_type": "code",
   "execution_count": 6,
   "metadata": {
    "Collapsed": "false"
   },
   "outputs": [
    {
     "name": "stdout",
     "output_type": "stream",
     "text": [
      "Train on 55000 samples, validate on 5000 samples\n",
      "Epoch 1/10\n",
      "55000/55000 [==============================] - 12s 224us/sample - loss: 0.5591 - accuracy: 0.7968 - val_loss: 0.4428 - val_accuracy: 0.8418\n",
      "Epoch 2/10\n",
      "55000/55000 [==============================] - 10s 183us/sample - loss: 0.4104 - accuracy: 0.8485 - val_loss: 0.4436 - val_accuracy: 0.8408\n",
      "Epoch 3/10\n",
      "55000/55000 [==============================] - 9s 170us/sample - loss: 0.3683 - accuracy: 0.8633 - val_loss: 0.3632 - val_accuracy: 0.8692\n",
      "Epoch 4/10\n",
      "55000/55000 [==============================] - 9s 171us/sample - loss: 0.3416 - accuracy: 0.8734 - val_loss: 0.3567 - val_accuracy: 0.8684\n",
      "Epoch 5/10\n",
      "55000/55000 [==============================] - 9s 172us/sample - loss: 0.3195 - accuracy: 0.8821 - val_loss: 0.3415 - val_accuracy: 0.8790\n",
      "Epoch 6/10\n",
      "55000/55000 [==============================] - 10s 177us/sample - loss: 0.3031 - accuracy: 0.8870 - val_loss: 0.3494 - val_accuracy: 0.8740\n",
      "Epoch 7/10\n",
      "55000/55000 [==============================] - 9s 167us/sample - loss: 0.2889 - accuracy: 0.8922 - val_loss: 0.3254 - val_accuracy: 0.8784\n",
      "Epoch 8/10\n",
      "55000/55000 [==============================] - 10s 175us/sample - loss: 0.2777 - accuracy: 0.8959 - val_loss: 0.3400 - val_accuracy: 0.8782\n",
      "Epoch 9/10\n",
      "55000/55000 [==============================] - 10s 179us/sample - loss: 0.2661 - accuracy: 0.9009 - val_loss: 0.3276 - val_accuracy: 0.8794\n",
      "Epoch 10/10\n",
      "55000/55000 [==============================] - 10s 173us/sample - loss: 0.2571 - accuracy: 0.9041 - val_loss: 0.3324 - val_accuracy: 0.8800\n"
     ]
    }
   ],
   "source": [
    "logdir = './dnn_selu_callbacks'\n",
    "if not os.path.exists(logdir):\n",
    "    os.mkdir(logdir)\n",
    "output_model_file = os.path.join(logdir,\"fashion_minist_model.h5\")\n",
    "\n",
    "callbacks =[\n",
    "    keras.callbacks.TensorBoard(logdir),\n",
    "    keras.callbacks.ModelCheckpoint(output_model_file,save_best_only=True),\n",
    "    keras.callbacks.EarlyStopping(patience=5,min_delta=1e-3)\n",
    "]\n",
    "history = model.fit(x_train_scaled,y_train,epochs=10,validation_data=(x_valid_scaled,y_valid),callbacks = callbacks)"
   ]
  },
  {
   "cell_type": "code",
   "execution_count": null,
   "metadata": {
    "Collapsed": "false"
   },
   "outputs": [],
   "source": [
    "type(history)"
   ]
  },
  {
   "cell_type": "code",
   "execution_count": null,
   "metadata": {
    "Collapsed": "false"
   },
   "outputs": [],
   "source": [
    "history.history"
   ]
  },
  {
   "cell_type": "code",
   "execution_count": 7,
   "metadata": {
    "Collapsed": "false"
   },
   "outputs": [
    {
     "data": {
      "image/png": "[encoded data removed]",
      "text/plain": [
       "<Figure size 432x288 with 1 Axes>"
      ]
     },
     "metadata": {
      "needs_background": "light"
     },
     "output_type": "display_data"
    }
   ],
   "source": [
    "%matplotlib inline\n",
    "import matplotlib.pyplot as plt\n",
    "def plot_learning_curves(history):\n",
    "    pd.DataFrame(history.history).plot()\n",
    "    plt.grid(True)\n",
    "    plt.gca().set_ylim(0,1)\n",
    "    plt.show()\n",
    "\n",
    "plot_learning_curves(history)"
   ]
  },
  {
   "cell_type": "code",
   "execution_count": null,
   "metadata": {
    "Collapsed": "false"
   },
   "outputs": [],
   "source": [
    "model.evaluate(x_test_scaled,y_test)"
   ]
  },
  {
   "cell_type": "code",
   "execution_count": null,
   "metadata": {
    "Collapsed": "false"
   },
   "outputs": [],
   "source": []
  }
 ],
 "metadata": {
  "kernelspec": {
   "display_name": "Python 3",
   "language": "python",
   "name": "python3"
  },
  "language_info": {
   "codemirror_mode": {
    "name": "ipython",
    "version": 3
   },
   "file_extension": ".py",
   "mimetype": "text/x-python",
   "name": "python",
   "nbconvert_exporter": "python",
   "pygments_lexer": "ipython3",
   "version": "3.7.4"
  }
 },
 "nbformat": 4,
 "nbformat_minor": 4
}
