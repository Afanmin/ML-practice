{
 "cells": [
  {
   "cell_type": "code",
   "execution_count": 1,
   "metadata": {
    "Collapsed": "false"
   },
   "outputs": [],
   "source": [
    "import matplotlib as mpl\n",
    "import matplotlib.pyplot as plt\n",
    "%matplotlib inline\n",
    "import numpy as np\n",
    "import sklearn\n",
    "import pandas as pd\n",
    "import os\n",
    "import sys\n",
    "import time\n",
    "import tensorflow as tf\n",
    "\n",
    "from tensorflow import keras\n"
   ]
  },
  {
   "cell_type": "code",
   "execution_count": 2,
   "metadata": {
    "Collapsed": "false"
   },
   "outputs": [],
   "source": [
    "from sklearn.datasets import fetch_california_housing\n",
    "\n",
    "housing = fetch_california_housing()\n",
    "\n",
    "from sklearn.model_selection import train_test_split\n",
    "\n",
    "x_train_all, x_test , y_train_all, y_test = train_test_split(\n",
    "    housing.data,housing.target,random_state = 7)\n",
    "x_train , x_valid , y_train , y_valid = train_test_split(\n",
    "    x_train_all,y_train_all,random_state = 11)"
   ]
  },
  {
   "cell_type": "code",
   "execution_count": 3,
   "metadata": {
    "Collapsed": "false"
   },
   "outputs": [],
   "source": [
    "from sklearn.preprocessing import StandardScaler\n",
    "\n",
    "scaler = StandardScaler()\n",
    "x_train_scaled = scaler.fit_transform(x_train)\n",
    "x_valid_scaled = scaler.transform(x_valid)\n",
    "x_test_scaled = scaler.transform(x_test)"
   ]
  },
  {
   "cell_type": "code",
   "execution_count": 7,
   "metadata": {
    "Collapsed": "false"
   },
   "outputs": [
    {
     "name": "stdout",
     "output_type": "stream",
     "text": [
      "Model: \"model_2\"\n",
      "__________________________________________________________________________________________________\n",
      "Layer (type)                    Output Shape         Param #     Connected to                     \n",
      "==================================================================================================\n",
      "input_3 (InputLayer)            [(None, 8)]          0                                            \n",
      "__________________________________________________________________________________________________\n",
      "dense_6 (Dense)                 (None, 30)           270         input_3[0][0]                    \n",
      "__________________________________________________________________________________________________\n",
      "dense_7 (Dense)                 (None, 30)           930         dense_6[0][0]                    \n",
      "__________________________________________________________________________________________________\n",
      "concatenate_2 (Concatenate)     (None, 38)           0           input_3[0][0]                    \n",
      "                                                                 dense_7[0][0]                    \n",
      "__________________________________________________________________________________________________\n",
      "dense_8 (Dense)                 (None, 1)            39          concatenate_2[0][0]              \n",
      "==================================================================================================\n",
      "Total params: 1,239\n",
      "Trainable params: 1,239\n",
      "Non-trainable params: 0\n",
      "__________________________________________________________________________________________________\n"
     ]
    }
   ],
   "source": [
    "# model = keras.models.Sequential([\n",
    "#     keras.layers.Dense(30,activation='relu',input_shape=x_train.shape[1:]),\n",
    "#     keras.layers.Dense(1),\n",
    "# ])\n",
    "input = keras.layers.Input(shape=x_train.shape[1:])\n",
    "hidden1 = keras.layers.Dense(30,activation='relu')(input)\n",
    "hidden2 = keras.layers.Dense(30,activation='relu')(hidden1)\n",
    "\n",
    "concat = keras.layers.concatenate([input,hidden2])\n",
    "output = keras.layers.Dense(1)(concat)\n",
    "\n",
    "model = keras.models.Model(inputs = [input],outputs = [output])\n",
    "\n",
    "\n",
    "model.summary()\n",
    "model.compile(loss='mean_squared_error',optimizer = 'adamax')#用sgd无法收敛\n",
    "callbacks = [keras.callbacks.EarlyStopping(patience=5,min_delta=1e-2)]"
   ]
  },
  {
   "cell_type": "code",
   "execution_count": 8,
   "metadata": {
    "Collapsed": "false"
   },
   "outputs": [
    {
     "name": "stdout",
     "output_type": "stream",
     "text": [
      "Train on 11610 samples, validate on 3870 samples\n",
      "Epoch 1/100\n",
      "11610/11610 [==============================] - 1s 84us/sample - loss: 1.5534 - val_loss: 0.8614\n",
      "Epoch 2/100\n",
      "11610/11610 [==============================] - 1s 53us/sample - loss: 0.6743 - val_loss: 0.6728\n",
      "Epoch 3/100\n",
      "11610/11610 [==============================] - 1s 59us/sample - loss: 0.5676 - val_loss: 0.5813\n",
      "Epoch 4/100\n",
      "11610/11610 [==============================] - 1s 52us/sample - loss: 0.5022 - val_loss: 0.5179\n",
      "Epoch 5/100\n",
      "11610/11610 [==============================] - 1s 52us/sample - loss: 0.4614 - val_loss: 0.4789\n",
      "Epoch 6/100\n",
      "11610/11610 [==============================] - 1s 52us/sample - loss: 0.4344 - val_loss: 0.4521\n",
      "Epoch 7/100\n",
      "11610/11610 [==============================] - 1s 52us/sample - loss: 0.4153 - val_loss: 0.4322\n",
      "Epoch 8/100\n",
      "11610/11610 [==============================] - 1s 52us/sample - loss: 0.4015 - val_loss: 0.4175\n",
      "Epoch 9/100\n",
      "11610/11610 [==============================] - 1s 56us/sample - loss: 0.3909 - val_loss: 0.4072\n",
      "Epoch 10/100\n",
      "11610/11610 [==============================] - 1s 50us/sample - loss: 0.3823 - val_loss: 0.3958\n",
      "Epoch 11/100\n",
      "11610/11610 [==============================] - 1s 50us/sample - loss: 0.3753 - val_loss: 0.3885\n",
      "Epoch 12/100\n",
      "11610/11610 [==============================] - 1s 49us/sample - loss: 0.3701 - val_loss: 0.3837\n",
      "Epoch 13/100\n",
      "11610/11610 [==============================] - 1s 53us/sample - loss: 0.3657 - val_loss: 0.3761\n",
      "Epoch 14/100\n",
      "11610/11610 [==============================] - 1s 50us/sample - loss: 0.3608 - val_loss: 0.3718\n",
      "Epoch 15/100\n",
      "11610/11610 [==============================] - 1s 53us/sample - loss: 0.3561 - val_loss: 0.3657\n",
      "Epoch 16/100\n",
      "11610/11610 [==============================] - 1s 52us/sample - loss: 0.3516 - val_loss: 0.3660\n",
      "Epoch 17/100\n",
      "11610/11610 [==============================] - 1s 53us/sample - loss: 0.3482 - val_loss: 0.3558\n",
      "Epoch 18/100\n",
      "11610/11610 [==============================] - 1s 54us/sample - loss: 0.3442 - val_loss: 0.3544\n",
      "Epoch 19/100\n",
      "11610/11610 [==============================] - 1s 54us/sample - loss: 0.3406 - val_loss: 0.3494\n",
      "Epoch 20/100\n",
      "11610/11610 [==============================] - 1s 55us/sample - loss: 0.3379 - val_loss: 0.3461\n",
      "Epoch 21/100\n",
      "11610/11610 [==============================] - 1s 54us/sample - loss: 0.3344 - val_loss: 0.3485\n",
      "Epoch 22/100\n",
      "11610/11610 [==============================] - 1s 52us/sample - loss: 0.3322 - val_loss: 0.3391\n",
      "Epoch 23/100\n",
      "11610/11610 [==============================] - 1s 53us/sample - loss: 0.3296 - val_loss: 0.3403\n",
      "Epoch 24/100\n",
      "11610/11610 [==============================] - 1s 54us/sample - loss: 0.3256 - val_loss: 0.3344\n",
      "Epoch 25/100\n",
      "11610/11610 [==============================] - 1s 52us/sample - loss: 0.3237 - val_loss: 0.3339\n",
      "Epoch 26/100\n",
      "11610/11610 [==============================] - 1s 50us/sample - loss: 0.3220 - val_loss: 0.3302\n",
      "Epoch 27/100\n",
      "11610/11610 [==============================] - 1s 54us/sample - loss: 0.3192 - val_loss: 0.3310\n"
     ]
    }
   ],
   "source": [
    "history = model.fit(x_train_scaled,y_train,validation_data=(x_valid_scaled,y_valid),\n",
    "                   epochs=100,callbacks=callbacks)"
   ]
  },
  {
   "cell_type": "code",
   "execution_count": null,
   "metadata": {
    "Collapsed": "false"
   },
   "outputs": [],
   "source": []
  }
 ],
 "metadata": {
  "kernelspec": {
   "display_name": "Python 3",
   "language": "python",
   "name": "python3"
  },
  "language_info": {
   "codemirror_mode": {
    "name": "ipython",
    "version": 3
   },
   "file_extension": ".py",
   "mimetype": "text/x-python",
   "name": "python",
   "nbconvert_exporter": "python",
   "pygments_lexer": "ipython3",
   "version": "3.7.4"
  }
 },
 "nbformat": 4,
 "nbformat_minor": 4
}
