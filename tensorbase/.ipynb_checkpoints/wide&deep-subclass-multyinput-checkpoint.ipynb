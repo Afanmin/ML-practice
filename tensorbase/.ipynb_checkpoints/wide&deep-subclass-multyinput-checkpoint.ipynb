{
 "cells": [
  {
   "cell_type": "code",
   "execution_count": 1,
   "metadata": {
    "Collapsed": "false"
   },
   "outputs": [],
   "source": [
    "import matplotlib as mpl\n",
    "import matplotlib.pyplot as plt\n",
    "%matplotlib inline\n",
    "import numpy as np\n",
    "import sklearn\n",
    "import pandas as pd\n",
    "import os\n",
    "import sys\n",
    "import time\n",
    "import tensorflow as tf\n",
    "\n",
    "from tensorflow import keras\n"
   ]
  },
  {
   "cell_type": "code",
   "execution_count": 2,
   "metadata": {
    "Collapsed": "false"
   },
   "outputs": [],
   "source": [
    "from sklearn.datasets import fetch_california_housing\n",
    "\n",
    "housing = fetch_california_housing()\n",
    "\n",
    "from sklearn.model_selection import train_test_split\n",
    "\n",
    "x_train_all, x_test , y_train_all, y_test = train_test_split(\n",
    "    housing.data,housing.target,random_state = 7)\n",
    "x_train , x_valid , y_train , y_valid = train_test_split(\n",
    "    x_train_all,y_train_all,random_state = 11)"
   ]
  },
  {
   "cell_type": "code",
   "execution_count": 3,
   "metadata": {
    "Collapsed": "false"
   },
   "outputs": [],
   "source": [
    "from sklearn.preprocessing import StandardScaler\n",
    "\n",
    "scaler = StandardScaler()\n",
    "x_train_scaled = scaler.fit_transform(x_train)\n",
    "x_valid_scaled = scaler.transform(x_valid)\n",
    "x_test_scaled = scaler.transform(x_test)"
   ]
  },
  {
   "cell_type": "code",
   "execution_count": 7,
   "metadata": {
    "Collapsed": "false"
   },
   "outputs": [
    {
     "name": "stdout",
     "output_type": "stream",
     "text": [
      "Model: \"wide_deep_3\"\n",
      "_________________________________________________________________\n",
      "Layer (type)                 Output Shape              Param #   \n",
      "=================================================================\n",
      "dense_9 (Dense)              multiple                  270       \n",
      "_________________________________________________________________\n",
      "dense_10 (Dense)             multiple                  930       \n",
      "_________________________________________________________________\n",
      "dense_11 (Dense)             multiple                  39        \n",
      "=================================================================\n",
      "Total params: 1,239\n",
      "Trainable params: 1,239\n",
      "Non-trainable params: 0\n",
      "_________________________________________________________________\n"
     ]
    }
   ],
   "source": [
    "# model = keras.models.Sequential([\n",
    "#     keras.layers.Dense(30,activation='relu',input_shape=x_train.shape[1:]),\n",
    "#     keras.layers.Dense(1),\n",
    "# ])\n",
    "# input = keras.layers.Input(shape=x_train.shape[1:])\n",
    "# hidden1 = keras.layers.Dense(30,activation='relu')(input)\n",
    "# hidden2 = keras.layers.Dense(30,activation='relu')(hidden1)\n",
    "\n",
    "# concat = keras.layers.concatenate([input,hidden2])\n",
    "# output = keras.layers.Dense(1)(concat)\n",
    "\n",
    "# model = keras.models.Model(inputs = [input],outputs = [output])\n",
    "class WideDeep(keras.models.Model):\n",
    "    def __init__(self):\n",
    "        super(WideDeep,self).__init__()\n",
    "        self.hidden1_layer = keras.layers.Dense(30,activation='relu')\n",
    "        self.hidden2_layer = keras.layers.Dense(30,activation='relu')\n",
    "        self.output_layer = keras.layers.Dense(1)\n",
    "        \n",
    "    def call(self,input):\n",
    "        hidden1 = self.hidden1_layer(input)\n",
    "        hidden2 = self.hidden2_layer(hidden1)\n",
    "        concat = keras.layers.concatenate([input,hidden2])\n",
    "        output = self.output_layer(concat)\n",
    "        return output\n",
    "model = WideDeep()\n",
    "model.build(input_shape = (None,8))\n",
    "\n",
    "model.summary()\n",
    "model.compile(loss='mean_squared_error',optimizer = 'adamax')#用sgd无法收敛\n",
    "callbacks = [keras.callbacks.EarlyStopping(patience=5,min_delta=1e-2)]"
   ]
  },
  {
   "cell_type": "code",
   "execution_count": 8,
   "metadata": {
    "Collapsed": "false"
   },
   "outputs": [
    {
     "name": "stdout",
     "output_type": "stream",
     "text": [
      "Train on 11610 samples, validate on 3870 samples\n",
      "Epoch 1/100\n",
      "11610/11610 [==============================] - 1s 109us/sample - loss: 1.6258 - val_loss: 0.9705\n",
      "Epoch 2/100\n",
      "11610/11610 [==============================] - 1s 53us/sample - loss: 0.7202 - val_loss: 0.7661\n",
      "Epoch 3/100\n",
      "11610/11610 [==============================] - 1s 51us/sample - loss: 0.6076 - val_loss: 0.6546\n",
      "Epoch 4/100\n",
      "11610/11610 [==============================] - 1s 50us/sample - loss: 0.5341 - val_loss: 0.5764\n",
      "Epoch 5/100\n",
      "11610/11610 [==============================] - 1s 50us/sample - loss: 0.4868 - val_loss: 0.5188\n",
      "Epoch 6/100\n",
      "11610/11610 [==============================] - 1s 51us/sample - loss: 0.4528 - val_loss: 0.4834\n",
      "Epoch 7/100\n",
      "11610/11610 [==============================] - 1s 51us/sample - loss: 0.4295 - val_loss: 0.4568\n",
      "Epoch 8/100\n",
      "11610/11610 [==============================] - 1s 51us/sample - loss: 0.4129 - val_loss: 0.4399\n",
      "Epoch 9/100\n",
      "11610/11610 [==============================] - 1s 51us/sample - loss: 0.4012 - val_loss: 0.4241\n",
      "Epoch 10/100\n",
      "11610/11610 [==============================] - 1s 52us/sample - loss: 0.3919 - val_loss: 0.4121\n",
      "Epoch 11/100\n",
      "11610/11610 [==============================] - 1s 52us/sample - loss: 0.3843 - val_loss: 0.4038\n",
      "Epoch 12/100\n",
      "11610/11610 [==============================] - 1s 57us/sample - loss: 0.3777 - val_loss: 0.3965\n",
      "Epoch 13/100\n",
      "11610/11610 [==============================] - 1s 52us/sample - loss: 0.3724 - val_loss: 0.3913\n",
      "Epoch 14/100\n",
      "11610/11610 [==============================] - 1s 51us/sample - loss: 0.3681 - val_loss: 0.3843\n",
      "Epoch 15/100\n",
      "11610/11610 [==============================] - 1s 54us/sample - loss: 0.3629 - val_loss: 0.3793\n",
      "Epoch 16/100\n",
      "11610/11610 [==============================] - 1s 57us/sample - loss: 0.3599 - val_loss: 0.3770\n",
      "Epoch 17/100\n",
      "11610/11610 [==============================] - 1s 52us/sample - loss: 0.3560 - val_loss: 0.3721\n",
      "Epoch 18/100\n",
      "11610/11610 [==============================] - 1s 52us/sample - loss: 0.3527 - val_loss: 0.3678\n",
      "Epoch 19/100\n",
      "11610/11610 [==============================] - 1s 57us/sample - loss: 0.3497 - val_loss: 0.3638\n",
      "Epoch 20/100\n",
      "11610/11610 [==============================] - 1s 53us/sample - loss: 0.3466 - val_loss: 0.3627\n",
      "Epoch 21/100\n",
      "11610/11610 [==============================] - 1s 52us/sample - loss: 0.3441 - val_loss: 0.3586\n",
      "Epoch 22/100\n",
      "11610/11610 [==============================] - 1s 57us/sample - loss: 0.3415 - val_loss: 0.3543\n",
      "Epoch 23/100\n",
      "11610/11610 [==============================] - 1s 53us/sample - loss: 0.3395 - val_loss: 0.3535ETA: 0s - loss: 0.\n",
      "Epoch 24/100\n",
      "11610/11610 [==============================] - 1s 52us/sample - loss: 0.3370 - val_loss: 0.3531\n",
      "Epoch 25/100\n",
      "11610/11610 [==============================] - 1s 58us/sample - loss: 0.3347 - val_loss: 0.3511\n",
      "Epoch 26/100\n",
      "11610/11610 [==============================] - 1s 54us/sample - loss: 0.3330 - val_loss: 0.3459\n",
      "Epoch 27/100\n",
      "11610/11610 [==============================] - 1s 52us/sample - loss: 0.3306 - val_loss: 0.3454\n",
      "Epoch 28/100\n",
      "11610/11610 [==============================] - 1s 59us/sample - loss: 0.3287 - val_loss: 0.3426\n",
      "Epoch 29/100\n",
      "11610/11610 [==============================] - 1s 53us/sample - loss: 0.3272 - val_loss: 0.3416\n",
      "Epoch 30/100\n",
      "11610/11610 [==============================] - 1s 56us/sample - loss: 0.3259 - val_loss: 0.3380\n",
      "Epoch 31/100\n",
      "11610/11610 [==============================] - 1s 57us/sample - loss: 0.3235 - val_loss: 0.3380\n"
     ]
    }
   ],
   "source": [
    "history = model.fit(x_train_scaled,y_train,validation_data=(x_valid_scaled,y_valid),\n",
    "                   epochs=100,callbacks=callbacks)"
   ]
  },
  {
   "cell_type": "code",
   "execution_count": null,
   "metadata": {
    "Collapsed": "false"
   },
   "outputs": [],
   "source": []
  }
 ],
 "metadata": {
  "kernelspec": {
   "display_name": "Python 3",
   "language": "python",
   "name": "python3"
  },
  "language_info": {
   "codemirror_mode": {
    "name": "ipython",
    "version": 3
   },
   "file_extension": ".py",
   "mimetype": "text/x-python",
   "name": "python",
   "nbconvert_exporter": "python",
   "pygments_lexer": "ipython3",
   "version": "3.7.4"
  }
 },
 "nbformat": 4,
 "nbformat_minor": 4
}
