{
 "cells": [
  {
   "cell_type": "code",
   "execution_count": 13,
   "metadata": {},
   "outputs": [],
   "source": [
    "import os\n",
    "import pickle\n",
    "import time\n",
    "\n",
    "from selenium import webdriver\n",
    "from selenium.webdriver.support.wait import WebDriverWait\n",
    "\n",
    "brower = webdriver.Chrome()\n",
    "wait = WebDriverWait(brower, 10)\n",
    "\n",
    "def getTaobaoCookies():\n",
    "    # get login taobao cookies\n",
    "    url = \"https://s.taobao.com/search?q=ipad\"\n",
    "    brower.get(\"https://s.taobao.com/search?q=ipad\")\n",
    "    while True:\n",
    "        print(\"Please login in taobao.com!\")\n",
    "        time.sleep(3)\n",
    "        # if login in successfully, url  jump to www.taobao.com\n",
    "        while brower.current_url ==  url:\n",
    "            tbCookies  = brower.get_cookies()\n",
    "            brower.quit()\n",
    "            cookies = {}\n",
    "            for item in tbCookies:\n",
    "                cookies[item['name']] = item['value']\n",
    "            outputPath = open('taobaoCookies.pickle','wb')\n",
    "            pickle.dump(cookies,outputPath)\n",
    "            outputPath.close()\n",
    "            return cookies\n"
   ]
  },
  {
   "cell_type": "code",
   "execution_count": 14,
   "metadata": {},
   "outputs": [
    {
     "name": "stdout",
     "output_type": "stream",
     "text": [
      "Please login in taobao.com!\n",
      "Please login in taobao.com!\n",
      "Please login in taobao.com!\n",
      "Please login in taobao.com!\n",
      "Please login in taobao.com!\n",
      "Please login in taobao.com!\n",
      "Please login in taobao.com!\n",
      "Please login in taobao.com!\n",
      "Please login in taobao.com!\n",
      "Please login in taobao.com!\n",
      "Please login in taobao.com!\n",
      "Please login in taobao.com!\n"
     ]
    },
    {
     "data": {
      "text/plain": [
       "{'JSESSIONID': '97D5C7F7AEE823602D50C70CB715A447',\n",
       " '_cc_': 'VT5L2FSpdA%3D%3D',\n",
       " '_l_g_': 'Ug%3D%3D',\n",
       " '_nk_': '%5Cu51E1%5Cu51E1%5Cu51E1%5Cu51E1%5Cu54E5%5Cu54E5',\n",
       " '_tb_token_': '5ebede33bd3b7',\n",
       " 'cna': '22k1Fmq/OBoCAXeJNvlseDBc',\n",
       " 'cookie1': 'UtRWWKdRjVunVM0qv625ErElZZ57upx0n3D3EtCeY4s%3D',\n",
       " 'cookie17': 'UUpkv6oAkw%2BH3A%3D%3D',\n",
       " 'cookie2': '1744077528795ba46a2ef3d902c2da53',\n",
       " 'csg': 'd4699c87',\n",
       " 'dnk': '%5Cu51E1%5Cu51E1%5Cu51E1%5Cu51E1%5Cu54E5%5Cu54E5',\n",
       " 'enc': 'P%2BWz%2BvkuqpDNuCPXyd3yfTWnMWLbrMnbxv5du1FCZXcchKi9VYFET50TAEYVdc9TFPYcQCOzk7ydS7YzkGnLRw%3D%3D',\n",
       " 'existShop': 'MTU3MTcxNjA5Mw%3D%3D',\n",
       " 'hng': 'CN%7Czh-CN%7CCNY%7C156',\n",
       " 'isg': 'BI-P0rayDigWxwrU6hdH44EMHiVZHOPYLijeCqGcK_4FcK9yqYRzJo3iduHrE7tO',\n",
       " 'l': 'dBSGjCi4qklidRpzBOCanurza77OSIRYYuPzaNbMi_5Cr6T6zIQOkMJ7uF96VjX5GBLBqDlUQKv9-etbZAo6E4K-g3frwHASNFxX4',\n",
       " 'lgc': '%5Cu51E1%5Cu51E1%5Cu51E1%5Cu51E1%5Cu54E5%5Cu54E5',\n",
       " 'mt': 'ci=21_1',\n",
       " 'sg': '%E5%93%A595',\n",
       " 'skt': '637f8984f8cbd0c9',\n",
       " 't': 'eacf485faac48a3f8302b0a7f37ffe53',\n",
       " 'tg': '0',\n",
       " 'thw': 'cn',\n",
       " 'tracknick': '%5Cu51E1%5Cu51E1%5Cu51E1%5Cu51E1%5Cu54E5%5Cu54E5',\n",
       " 'uc1': '\"cookie15=WqG3DMC9VAQiUQ%3D%3D\"',\n",
       " 'uc3': 'nk2=1HW1VD4FrHGsgUzi&lg2=Vq8l%2BKCLz3%2F65A%3D%3D&vt3=F8dByuclcEDy1gezwSE%3D&id2=UUpkv6oAkw%2BH3A%3D%3D',\n",
       " 'unb': '2257086039',\n",
       " 'v': '0'}"
      ]
     },
     "execution_count": 14,
     "metadata": {},
     "output_type": "execute_result"
    }
   ],
   "source": [
    "getTaobaoCookies()"
   ]
  },
  {
   "cell_type": "code",
   "execution_count": 23,
   "metadata": {},
   "outputs": [],
   "source": [
    "def readTaobaoCookies():\n",
    "    # if hava cookies file ,use it \n",
    "    # if not , getTaobaoCookies()\n",
    "    if os.path.exists('taobaoCookies.pickle'):\n",
    "        readPath = open('taobaoCookies.pickle','rb')\n",
    "        tbCookies = pickle.load(readPath)\n",
    "    else:\n",
    "        tbCookies = getTaobaoCookies()\n",
    "    return tbCookies"
   ]
  },
  {
   "cell_type": "code",
   "execution_count": 45,
   "metadata": {
    "scrolled": true
   },
   "outputs": [
    {
     "name": "stdout",
     "output_type": "stream",
     "text": [
      "page: 1\n",
      "[{'deal': '', 'price': '¥2699.00', 'image': '//g-search3.alicdn.com/img/bao/uploaded/i4/i3/1917047079/O1CN01LRD0NC22AEJDhQixD_!!2-item_pic.png'}, {'deal': '', 'price': '¥2921.00', 'image': '//g-search2.alicdn.com/img/bao/uploaded/i4/i2/1917047079/O1CN01orvMCo22AEFyGqSrB_!!0-item_pic.jpg'}, {'deal': '', 'price': '¥4870.00', 'image': '//g-search3.alicdn.com/img/bao/uploaded/i4/i1/1917047079/O1CN01qNZUmy22AEFzBvXlR_!!2-item_pic.png'}, {'deal': '', 'price': '¥2298.00', 'image': '//g-search3.alicdn.com/img/bao/uploaded/i4/i2/1776456424/O1CN01puCczr1xKEtNs3wX1_!!0-item_pic.jpg'}, {'deal': '', 'price': '¥2499.00', 'image': '//g-search2.alicdn.com/img/bao/uploaded/i4/i1/1669409267/O1CN01j5c1bq2IKKuO3Zc0F_!!1669409267-0-pixelsss.jpg'}, {'deal': '', 'price': '¥3896.00', 'image': '//g-search2.alicdn.com/img/bao/uploaded/i4/i1/2616970884/O1CN01F46RVW1IOueSf2PgD_!!0-item_pic.jpg'}, {'deal': '', 'price': '¥2499.00', 'image': '//g-search3.alicdn.com/img/bao/uploaded/i4/i1/1776456424/O1CN01Yrm44z1xKEtJ0Xn96_!!0-item_pic.jpg'}, {'deal': '', 'price': '¥2318.00', 'image': '//g-search2.alicdn.com/img/bao/uploaded/i4/i2/2616970884/O1CN01A9iiPd1IOugTfN01E_!!0-item_pic.jpg'}, {'deal': '', 'price': '¥2699.00', 'image': '//g-search2.alicdn.com/img/bao/uploaded/i4/i4/2711014365/O1CN01q90NXb1i7DOWSjKsy_!!0-item_pic.jpg'}, {'deal': '', 'price': '¥2299.00', 'image': '//g-search3.alicdn.com/img/bao/uploaded/i4/i4/2711014365/O1CN01JUGhZA1i7DOL0hnlu_!!0-item_pic.jpg'}, {'deal': '', 'price': '¥2258.00', 'image': '//g-search3.alicdn.com/img/bao/uploaded/i4/i4/4067898807/O1CN01zngFZC2EveiRGrAuF_!!4067898807.jpg'}, {'deal': '', 'price': '¥2638.00', 'image': '//g-search1.alicdn.com/img/bao/uploaded/i4/i3/2200724907121/O1CN01EhQM6Y22TSwuR6IEu_!!0-item_pic.jpg'}, {'deal': '', 'price': '¥2299.00', 'image': '//g-search3.alicdn.com/img/bao/uploaded/i4/i2/385131841/O1CN01G2UEu61PTDiWc5koX_!!0-item_pic.jpg'}, {'deal': '', 'price': '¥3128.00', 'image': '//g-search3.alicdn.com/img/bao/uploaded/i4/i4/97045700/O1CN01h1liQr1rye5J56wRI_!!97045700.jpg'}, {'deal': '', 'price': '¥2998.00', 'image': '//g-search2.alicdn.com/img/bao/uploaded/i4/i3/1608558763/O1CN01dzdz022EbVES7v2U9_!!1608558763.jpg'}, {'deal': '', 'price': '¥2398.00', 'image': '//g-search3.alicdn.com/img/bao/uploaded/i4/i2/2200724907121/O1CN01i0XjTb22TSwxPk4ty_!!0-item_pic.jpg'}, {'deal': '', 'price': '¥2299.01', 'image': '//g-search3.alicdn.com/img/bao/uploaded/i4/i4/858042828/O1CN01XNNwLf1WlGdjBvZ6B_!!0-item_pic.jpg'}, {'deal': '', 'price': '¥3498.00', 'image': '//g-search2.alicdn.com/img/bao/uploaded/i4/i1/1669409267/O1CN01QD2f0Y2IKKuLWAjfq_!!1669409267-0-pixelsss.jpg'}, {'deal': '', 'price': '¥2699.00', 'image': '//g-search3.alicdn.com/img/bao/uploaded/i4/i2/385131841/O1CN01Hv32Ee1PTDiyE7XrQ_!!0-item_pic.jpg'}, {'deal': '', 'price': '¥3638.00', 'image': '//g-search2.alicdn.com/img/bao/uploaded/i4/i4/1608558763/O1CN01smFxP22EbVDnvLBaD_!!1608558763.jpg'}, {'deal': '', 'price': '¥4238.00', 'image': '//g-search1.alicdn.com/img/bao/uploaded/i4/i4/88853534/O1CN01BetLGr1bycDbj3Gqm_!!88853534.jpg'}, {'deal': '', 'price': '¥2138.00', 'image': '//g-search3.alicdn.com/img/bao/uploaded/i4/i3/97045700/O1CN01GDsCdt1rye8Zw0Ckh_!!97045700.jpg'}, {'deal': '', 'price': '¥2199.00', 'image': '//g-search1.alicdn.com/img/bao/uploaded/i4/i1/2923048015/O1CN01YPIYYQ294v27YCuXJ_!!2923048015-0-pixelsss.jpg'}, {'deal': '', 'price': '¥3598.00', 'image': '//g-search1.alicdn.com/img/bao/uploaded/i4/i4/21681732/O1CN01oxyKKQ1OfIXqGinxG_!!21681732.jpg'}, {'deal': '', 'price': '¥2499.00', 'image': '//g-search2.alicdn.com/img/bao/uploaded/i4/i1/2204163545195/O1CN01d8cuZ31oFM81laOJS_!!0-item_pic.jpg'}, {'deal': '', 'price': '¥2699.00', 'image': '//g-search2.alicdn.com/img/bao/uploaded/i4/i2/858042828/O1CN01QeVDqY1WlGdeIEuWC_!!0-item_pic.jpg'}, {'deal': '', 'price': '¥2499.00', 'image': '//g-search3.alicdn.com/img/bao/uploaded/i4/i3/197232874/O1CN01dQqPf11X6KrMCevGS_!!0-item_pic.jpg'}, {'deal': '', 'price': '¥2299.00', 'image': '//g-search2.alicdn.com/img/bao/uploaded/i4/i2/2258958427/O1CN01uxyAhL2C7cDDCDK2C_!!0-item_pic.jpg'}, {'deal': '', 'price': '¥2299.00', 'image': '//g-search1.alicdn.com/img/bao/uploaded/i4/i1/1683498550/O1CN01bAixrJ2D1wuSUL5kh_!!0-item_pic.jpg'}, {'deal': '', 'price': '¥12499.00', 'image': '//g-search3.alicdn.com/img/bao/uploaded/i4/i4/4036567658/O1CN01ZN3rdv26RPdSWIWDv_!!0-item_pic.jpg'}, {'deal': '', 'price': '¥2148.00', 'image': '//g-search3.alicdn.com/img/bao/uploaded/i4/i3/4067898807/O1CN01jCS0on2EveicSu8aq_!!4067898807.jpg'}, {'deal': '', 'price': '¥4968.00', 'image': '//g-search2.alicdn.com/img/bao/uploaded/i4/i2/898225/O1CN01LyARPd2Ad69rEyEYl_!!898225.jpg'}, {'deal': '', 'price': '¥4858.00', 'image': '//g-search3.alicdn.com/img/bao/uploaded/i4/i2/2539737278/O1CN01aKl5Qq23dN4wXenHy_!!2539737278.jpg'}, {'deal': '', 'price': '¥3399.00', 'image': '//g-search2.alicdn.com/img/bao/uploaded/i4/i2/4129257698/O1CN01jATMWs26jjTk5vzg7_!!0-item_pic.jpg'}, {'deal': '', 'price': '¥1030.00', 'image': '//g-search3.alicdn.com/img/bao/uploaded/i4/i3/817364266/O1CN0166SwVD1hNsAsmd3yP_!!817364266.jpg'}, {'deal': '', 'price': '¥988.88', 'image': '//g-search1.alicdn.com/img/bao/uploaded/i4/i3/100951959/O1CN01etyFMg1QLGRYQFWkC_!!100951959.jpg'}, {'deal': '', 'price': '¥2450.00', 'image': '//g-search3.alicdn.com/img/bao/uploaded/i4/i2/3120180028/O1CN01tX6eao1C4reEAkw8B_!!3120180028.png'}, {'deal': '', 'price': '¥1888.00', 'image': '//g-search3.alicdn.com/img/bao/uploaded/i4/i4/2036045687/O1CN01rwwdEk1rsgyEC4YD4_!!2036045687.jpg'}, {'deal': '', 'price': '¥2998.00', 'image': '//g-search2.alicdn.com/img/bao/uploaded/i4/i1/2658874811/O1CN01WFbSRz1lPU28O8mDH_!!2658874811.jpg'}, {'deal': '', 'price': '¥1199.00', 'image': '//g-search1.alicdn.com/img/bao/uploaded/i4/i3/3261336459/O1CN01DFNm2R1xaGkwAymqh_!!0-item_pic.jpg'}, {'deal': '', 'price': '¥3288.00', 'image': '//g-search1.alicdn.com/img/bao/uploaded/i4/i3/898225/O1CN01VzH1RZ2Ad6AwWer1c_!!898225.jpg'}, {'deal': '', 'price': '¥2888.00', 'image': '//g-search3.alicdn.com/img/bao/uploaded/i4/i1/197232874/O1CN01h1mWzA1X6KqZgT5vr_!!0-item_pic.jpg'}, {'deal': '', 'price': '¥1050.00', 'image': '//g-search3.alicdn.com/img/bao/uploaded/i4/i2/1821323521/O1CN01CRY5FH1bsf78kl7f9_!!1821323521.jpg'}, {'deal': '', 'price': '¥2395.83', 'image': '//g-search3.alicdn.com/img/bao/uploaded/i4/i3/12573474/O1CN01PnGlzP1bX8UqIHh8k_!!12573474.jpg'}, {'deal': '', 'price': '¥2242.00', 'image': '//g-search2.alicdn.com/img/bao/uploaded/i4/i4/2364946123/O1CN01sjaFAS1v6Ne5QjJth_!!2364946123.jpg'}, {'deal': '', 'price': '¥1199.00', 'image': '//g-search1.alicdn.com/img/bao/uploaded/i4/i2/3015936477/O1CN01CwMllf1xiVsmX5Ewh_!!0-item_pic.jpg'}, {'deal': '', 'price': '¥975.00', 'image': '//g-search3.alicdn.com/img/bao/uploaded/i4/i4/284717276/O1CN01s60GsY23cSKb9tTnV_!!284717276.jpg'}, {'deal': '', 'price': '¥2258.00', 'image': '//g-search3.alicdn.com/img/bao/uploaded/i4/i3/277891388/O1CN01ggOUMH1M7kFcK8DQg_!!277891388.jpg'}]\n",
      "page: 2\n"
     ]
    },
    {
     "ename": "NoSuchWindowException",
     "evalue": "Message: no such window: window was already closed\n  (Session info: chrome=77.0.3865.120)\n",
     "output_type": "error",
     "traceback": [
      "\u001b[0;31m---------------------------------------------------------------------------\u001b[0m",
      "\u001b[0;31mNoSuchWindowException\u001b[0m                     Traceback (most recent call last)",
      "\u001b[0;32m<ipython-input-45-04690d49141d>\u001b[0m in \u001b[0;36m<module>\u001b[0;34m()\u001b[0m\n\u001b[1;32m     66\u001b[0m         \u001b[0mindex_Page\u001b[0m\u001b[0;34m(\u001b[0m\u001b[0mi\u001b[0m\u001b[0;34m)\u001b[0m\u001b[0;34m\u001b[0m\u001b[0m\n\u001b[1;32m     67\u001b[0m \u001b[0;34m\u001b[0m\u001b[0m\n\u001b[0;32m---> 68\u001b[0;31m \u001b[0mmain\u001b[0m\u001b[0;34m(\u001b[0m\u001b[0;34m)\u001b[0m\u001b[0;34m\u001b[0m\u001b[0m\n\u001b[0m",
      "\u001b[0;32m<ipython-input-45-04690d49141d>\u001b[0m in \u001b[0;36mmain\u001b[0;34m()\u001b[0m\n\u001b[1;32m     64\u001b[0m \u001b[0;32mdef\u001b[0m \u001b[0mmain\u001b[0m\u001b[0;34m(\u001b[0m\u001b[0;34m)\u001b[0m\u001b[0;34m:\u001b[0m\u001b[0;34m\u001b[0m\u001b[0m\n\u001b[1;32m     65\u001b[0m     \u001b[0;32mfor\u001b[0m \u001b[0mi\u001b[0m \u001b[0;32min\u001b[0m \u001b[0mrange\u001b[0m\u001b[0;34m(\u001b[0m\u001b[0;36m1\u001b[0m\u001b[0;34m,\u001b[0m\u001b[0mMAX_PAGE\u001b[0m\u001b[0;34m+\u001b[0m\u001b[0;36m1\u001b[0m\u001b[0;34m)\u001b[0m\u001b[0;34m:\u001b[0m\u001b[0;34m\u001b[0m\u001b[0m\n\u001b[0;32m---> 66\u001b[0;31m         \u001b[0mindex_Page\u001b[0m\u001b[0;34m(\u001b[0m\u001b[0mi\u001b[0m\u001b[0;34m)\u001b[0m\u001b[0;34m\u001b[0m\u001b[0m\n\u001b[0m\u001b[1;32m     67\u001b[0m \u001b[0;34m\u001b[0m\u001b[0m\n\u001b[1;32m     68\u001b[0m \u001b[0mmain\u001b[0m\u001b[0;34m(\u001b[0m\u001b[0;34m)\u001b[0m\u001b[0;34m\u001b[0m\u001b[0m\n",
      "\u001b[0;32m<ipython-input-45-04690d49141d>\u001b[0m in \u001b[0;36mindex_Page\u001b[0;34m(page)\u001b[0m\n\u001b[1;32m     39\u001b[0m             \u001b[0msubmit\u001b[0m\u001b[0;34m.\u001b[0m\u001b[0mclick\u001b[0m\u001b[0;34m(\u001b[0m\u001b[0;34m)\u001b[0m\u001b[0;34m\u001b[0m\u001b[0m\n\u001b[1;32m     40\u001b[0m         wait.until(\n\u001b[0;32m---> 41\u001b[0;31m             \u001b[0mEC\u001b[0m\u001b[0;34m.\u001b[0m\u001b[0mtext_to_be_present_in_element\u001b[0m\u001b[0;34m(\u001b[0m\u001b[0;34m(\u001b[0m\u001b[0mBy\u001b[0m\u001b[0;34m.\u001b[0m\u001b[0mCSS_SELECTOR\u001b[0m\u001b[0;34m,\u001b[0m\u001b[0;34m'#mainsrp-pager li.item.active > span'\u001b[0m\u001b[0;34m)\u001b[0m\u001b[0;34m,\u001b[0m\u001b[0mstr\u001b[0m\u001b[0;34m(\u001b[0m\u001b[0mpage\u001b[0m\u001b[0;34m)\u001b[0m\u001b[0;34m)\u001b[0m\u001b[0;34m\u001b[0m\u001b[0m\n\u001b[0m\u001b[1;32m     42\u001b[0m         )\n\u001b[1;32m     43\u001b[0m         \u001b[0mwait\u001b[0m\u001b[0;34m.\u001b[0m\u001b[0muntil\u001b[0m\u001b[0;34m(\u001b[0m\u001b[0mEC\u001b[0m\u001b[0;34m.\u001b[0m\u001b[0mpresence_of_element_located\u001b[0m\u001b[0;34m(\u001b[0m\u001b[0;34m(\u001b[0m\u001b[0mBy\u001b[0m\u001b[0;34m.\u001b[0m\u001b[0mCSS_SELECTOR\u001b[0m\u001b[0;34m,\u001b[0m\u001b[0;34m'.m-itemlist .items .item'\u001b[0m\u001b[0;34m)\u001b[0m\u001b[0;34m)\u001b[0m\u001b[0;34m)\u001b[0m\u001b[0;34m\u001b[0m\u001b[0m\n",
      "\u001b[0;32m~/anaconda3/envs/KingCrimson/lib/python3.5/site-packages/selenium/webdriver/support/wait.py\u001b[0m in \u001b[0;36muntil\u001b[0;34m(self, method, message)\u001b[0m\n\u001b[1;32m     69\u001b[0m         \u001b[0;32mwhile\u001b[0m \u001b[0;32mTrue\u001b[0m\u001b[0;34m:\u001b[0m\u001b[0;34m\u001b[0m\u001b[0m\n\u001b[1;32m     70\u001b[0m             \u001b[0;32mtry\u001b[0m\u001b[0;34m:\u001b[0m\u001b[0;34m\u001b[0m\u001b[0m\n\u001b[0;32m---> 71\u001b[0;31m                 \u001b[0mvalue\u001b[0m \u001b[0;34m=\u001b[0m \u001b[0mmethod\u001b[0m\u001b[0;34m(\u001b[0m\u001b[0mself\u001b[0m\u001b[0;34m.\u001b[0m\u001b[0m_driver\u001b[0m\u001b[0;34m)\u001b[0m\u001b[0;34m\u001b[0m\u001b[0m\n\u001b[0m\u001b[1;32m     72\u001b[0m                 \u001b[0;32mif\u001b[0m \u001b[0mvalue\u001b[0m\u001b[0;34m:\u001b[0m\u001b[0;34m\u001b[0m\u001b[0m\n\u001b[1;32m     73\u001b[0m                     \u001b[0;32mreturn\u001b[0m \u001b[0mvalue\u001b[0m\u001b[0;34m\u001b[0m\u001b[0m\n",
      "\u001b[0;32m~/anaconda3/envs/KingCrimson/lib/python3.5/site-packages/selenium/webdriver/support/expected_conditions.py\u001b[0m in \u001b[0;36m__call__\u001b[0;34m(self, driver)\u001b[0m\n\u001b[1;32m    207\u001b[0m     \u001b[0;32mdef\u001b[0m \u001b[0m__call__\u001b[0m\u001b[0;34m(\u001b[0m\u001b[0mself\u001b[0m\u001b[0;34m,\u001b[0m \u001b[0mdriver\u001b[0m\u001b[0;34m)\u001b[0m\u001b[0;34m:\u001b[0m\u001b[0;34m\u001b[0m\u001b[0m\n\u001b[1;32m    208\u001b[0m         \u001b[0;32mtry\u001b[0m\u001b[0;34m:\u001b[0m\u001b[0;34m\u001b[0m\u001b[0m\n\u001b[0;32m--> 209\u001b[0;31m             \u001b[0melement_text\u001b[0m \u001b[0;34m=\u001b[0m \u001b[0m_find_element\u001b[0m\u001b[0;34m(\u001b[0m\u001b[0mdriver\u001b[0m\u001b[0;34m,\u001b[0m \u001b[0mself\u001b[0m\u001b[0;34m.\u001b[0m\u001b[0mlocator\u001b[0m\u001b[0;34m)\u001b[0m\u001b[0;34m.\u001b[0m\u001b[0mtext\u001b[0m\u001b[0;34m\u001b[0m\u001b[0m\n\u001b[0m\u001b[1;32m    210\u001b[0m             \u001b[0;32mreturn\u001b[0m \u001b[0mself\u001b[0m\u001b[0;34m.\u001b[0m\u001b[0mtext\u001b[0m \u001b[0;32min\u001b[0m \u001b[0melement_text\u001b[0m\u001b[0;34m\u001b[0m\u001b[0m\n\u001b[1;32m    211\u001b[0m         \u001b[0;32mexcept\u001b[0m \u001b[0mStaleElementReferenceException\u001b[0m\u001b[0;34m:\u001b[0m\u001b[0;34m\u001b[0m\u001b[0m\n",
      "\u001b[0;32m~/anaconda3/envs/KingCrimson/lib/python3.5/site-packages/selenium/webdriver/support/expected_conditions.py\u001b[0m in \u001b[0;36m_find_element\u001b[0;34m(driver, by)\u001b[0m\n\u001b[1;32m    413\u001b[0m         \u001b[0;32mraise\u001b[0m \u001b[0me\u001b[0m\u001b[0;34m\u001b[0m\u001b[0m\n\u001b[1;32m    414\u001b[0m     \u001b[0;32mexcept\u001b[0m \u001b[0mWebDriverException\u001b[0m \u001b[0;32mas\u001b[0m \u001b[0me\u001b[0m\u001b[0;34m:\u001b[0m\u001b[0;34m\u001b[0m\u001b[0m\n\u001b[0;32m--> 415\u001b[0;31m         \u001b[0;32mraise\u001b[0m \u001b[0me\u001b[0m\u001b[0;34m\u001b[0m\u001b[0m\n\u001b[0m\u001b[1;32m    416\u001b[0m \u001b[0;34m\u001b[0m\u001b[0m\n\u001b[1;32m    417\u001b[0m \u001b[0;34m\u001b[0m\u001b[0m\n",
      "\u001b[0;32m~/anaconda3/envs/KingCrimson/lib/python3.5/site-packages/selenium/webdriver/support/expected_conditions.py\u001b[0m in \u001b[0;36m_find_element\u001b[0;34m(driver, by)\u001b[0m\n\u001b[1;32m    409\u001b[0m     if thrown.\"\"\"\n\u001b[1;32m    410\u001b[0m     \u001b[0;32mtry\u001b[0m\u001b[0;34m:\u001b[0m\u001b[0;34m\u001b[0m\u001b[0m\n\u001b[0;32m--> 411\u001b[0;31m         \u001b[0;32mreturn\u001b[0m \u001b[0mdriver\u001b[0m\u001b[0;34m.\u001b[0m\u001b[0mfind_element\u001b[0m\u001b[0;34m(\u001b[0m\u001b[0;34m*\u001b[0m\u001b[0mby\u001b[0m\u001b[0;34m)\u001b[0m\u001b[0;34m\u001b[0m\u001b[0m\n\u001b[0m\u001b[1;32m    412\u001b[0m     \u001b[0;32mexcept\u001b[0m \u001b[0mNoSuchElementException\u001b[0m \u001b[0;32mas\u001b[0m \u001b[0me\u001b[0m\u001b[0;34m:\u001b[0m\u001b[0;34m\u001b[0m\u001b[0m\n\u001b[1;32m    413\u001b[0m         \u001b[0;32mraise\u001b[0m \u001b[0me\u001b[0m\u001b[0;34m\u001b[0m\u001b[0m\n",
      "\u001b[0;32m~/anaconda3/envs/KingCrimson/lib/python3.5/site-packages/selenium/webdriver/remote/webdriver.py\u001b[0m in \u001b[0;36mfind_element\u001b[0;34m(self, by, value)\u001b[0m\n\u001b[1;32m    976\u001b[0m         return self.execute(Command.FIND_ELEMENT, {\n\u001b[1;32m    977\u001b[0m             \u001b[0;34m'using'\u001b[0m\u001b[0;34m:\u001b[0m \u001b[0mby\u001b[0m\u001b[0;34m,\u001b[0m\u001b[0;34m\u001b[0m\u001b[0m\n\u001b[0;32m--> 978\u001b[0;31m             'value': value})['value']\n\u001b[0m\u001b[1;32m    979\u001b[0m \u001b[0;34m\u001b[0m\u001b[0m\n\u001b[1;32m    980\u001b[0m     \u001b[0;32mdef\u001b[0m \u001b[0mfind_elements\u001b[0m\u001b[0;34m(\u001b[0m\u001b[0mself\u001b[0m\u001b[0;34m,\u001b[0m \u001b[0mby\u001b[0m\u001b[0;34m=\u001b[0m\u001b[0mBy\u001b[0m\u001b[0;34m.\u001b[0m\u001b[0mID\u001b[0m\u001b[0;34m,\u001b[0m \u001b[0mvalue\u001b[0m\u001b[0;34m=\u001b[0m\u001b[0;32mNone\u001b[0m\u001b[0;34m)\u001b[0m\u001b[0;34m:\u001b[0m\u001b[0;34m\u001b[0m\u001b[0m\n",
      "\u001b[0;32m~/anaconda3/envs/KingCrimson/lib/python3.5/site-packages/selenium/webdriver/remote/webdriver.py\u001b[0m in \u001b[0;36mexecute\u001b[0;34m(self, driver_command, params)\u001b[0m\n\u001b[1;32m    319\u001b[0m         \u001b[0mresponse\u001b[0m \u001b[0;34m=\u001b[0m \u001b[0mself\u001b[0m\u001b[0;34m.\u001b[0m\u001b[0mcommand_executor\u001b[0m\u001b[0;34m.\u001b[0m\u001b[0mexecute\u001b[0m\u001b[0;34m(\u001b[0m\u001b[0mdriver_command\u001b[0m\u001b[0;34m,\u001b[0m \u001b[0mparams\u001b[0m\u001b[0;34m)\u001b[0m\u001b[0;34m\u001b[0m\u001b[0m\n\u001b[1;32m    320\u001b[0m         \u001b[0;32mif\u001b[0m \u001b[0mresponse\u001b[0m\u001b[0;34m:\u001b[0m\u001b[0;34m\u001b[0m\u001b[0m\n\u001b[0;32m--> 321\u001b[0;31m             \u001b[0mself\u001b[0m\u001b[0;34m.\u001b[0m\u001b[0merror_handler\u001b[0m\u001b[0;34m.\u001b[0m\u001b[0mcheck_response\u001b[0m\u001b[0;34m(\u001b[0m\u001b[0mresponse\u001b[0m\u001b[0;34m)\u001b[0m\u001b[0;34m\u001b[0m\u001b[0m\n\u001b[0m\u001b[1;32m    322\u001b[0m             response['value'] = self._unwrap_value(\n\u001b[1;32m    323\u001b[0m                 response.get('value', None))\n",
      "\u001b[0;32m~/anaconda3/envs/KingCrimson/lib/python3.5/site-packages/selenium/webdriver/remote/errorhandler.py\u001b[0m in \u001b[0;36mcheck_response\u001b[0;34m(self, response)\u001b[0m\n\u001b[1;32m    240\u001b[0m                 \u001b[0malert_text\u001b[0m \u001b[0;34m=\u001b[0m \u001b[0mvalue\u001b[0m\u001b[0;34m[\u001b[0m\u001b[0;34m'alert'\u001b[0m\u001b[0;34m]\u001b[0m\u001b[0;34m.\u001b[0m\u001b[0mget\u001b[0m\u001b[0;34m(\u001b[0m\u001b[0;34m'text'\u001b[0m\u001b[0;34m)\u001b[0m\u001b[0;34m\u001b[0m\u001b[0m\n\u001b[1;32m    241\u001b[0m             \u001b[0;32mraise\u001b[0m \u001b[0mexception_class\u001b[0m\u001b[0;34m(\u001b[0m\u001b[0mmessage\u001b[0m\u001b[0;34m,\u001b[0m \u001b[0mscreen\u001b[0m\u001b[0;34m,\u001b[0m \u001b[0mstacktrace\u001b[0m\u001b[0;34m,\u001b[0m \u001b[0malert_text\u001b[0m\u001b[0;34m)\u001b[0m\u001b[0;34m\u001b[0m\u001b[0m\n\u001b[0;32m--> 242\u001b[0;31m         \u001b[0;32mraise\u001b[0m \u001b[0mexception_class\u001b[0m\u001b[0;34m(\u001b[0m\u001b[0mmessage\u001b[0m\u001b[0;34m,\u001b[0m \u001b[0mscreen\u001b[0m\u001b[0;34m,\u001b[0m \u001b[0mstacktrace\u001b[0m\u001b[0;34m)\u001b[0m\u001b[0;34m\u001b[0m\u001b[0m\n\u001b[0m\u001b[1;32m    243\u001b[0m \u001b[0;34m\u001b[0m\u001b[0m\n\u001b[1;32m    244\u001b[0m     \u001b[0;32mdef\u001b[0m \u001b[0m_value_or_default\u001b[0m\u001b[0;34m(\u001b[0m\u001b[0mself\u001b[0m\u001b[0;34m,\u001b[0m \u001b[0mobj\u001b[0m\u001b[0;34m,\u001b[0m \u001b[0mkey\u001b[0m\u001b[0;34m,\u001b[0m \u001b[0mdefault\u001b[0m\u001b[0;34m)\u001b[0m\u001b[0;34m:\u001b[0m\u001b[0;34m\u001b[0m\u001b[0m\n",
      "\u001b[0;31mNoSuchWindowException\u001b[0m: Message: no such window: window was already closed\n  (Session info: chrome=77.0.3865.120)\n"
     ]
    }
   ],
   "source": [
    "from selenium import webdriver\n",
    "from selenium.common.exceptions import TimeoutException\n",
    "from selenium.webdriver.common.by import By\n",
    "from selenium.webdriver.support import expected_conditions as EC\n",
    "from selenium.webdriver.support.wait import WebDriverWait\n",
    "from urllib.parse import quote\n",
    "from pyquery import PyQuery as pq\n",
    "\n",
    "browser = webdriver.Chrome()\n",
    "wait = WebDriverWait(browser,5)\n",
    "tbCookies = readTaobaoCookies()\n",
    "\n",
    "browser.get(\"https://www.taobao.com\")\n",
    "for cookie in tbCookies:\n",
    "    browser.add_cookie({\n",
    "        \"domain\":\".taobao.com\",\n",
    "        \"name\":cookie,\n",
    "        \"value\":tbCookies[cookie],\n",
    "        \"path\":'/',\n",
    "        \"expires\":None\n",
    "    })\n",
    "KEYWORD = 'ipad'\n",
    "\n",
    "def index_Page(page):\n",
    "    print(\"page:\",page)\n",
    "    try:\n",
    "        url = 'https://s.taobao.com/search?q='+quote(KEYWORD)\n",
    "        browser.get(url)\n",
    "        if page>1:\n",
    "            input = wait.until(\n",
    "                EC.presence_of_element_located((By.CSS_SELECTOR,'#mainsrp-pager div.form > input'))\n",
    "            )\n",
    "            submit = wait.until(\n",
    "                EC.element_to_be_clickable((By.CSS_SELECTOR,'#mainsrp-pager div.form > span.btn.J_Submit'))\n",
    "                #EC.presence_of_element_located((By.CSS_SELECTOR,'#mainsrp-page div.form > span.J_Submit'))\n",
    "            )\n",
    "            input.clear()\n",
    "            input.send_keys(page)\n",
    "            submit.click()\n",
    "        wait.until(\n",
    "            EC.text_to_be_present_in_element((By.CSS_SELECTOR,'#mainsrp-pager li.item.active > span'),str(page))\n",
    "        )\n",
    "        wait.until(EC.presence_of_element_located((By.CSS_SELECTOR,'.m-itemlist .items .item')))\n",
    "        get_products()\n",
    "    except TimeoutException:\n",
    "        index_Page(page)\n",
    "\n",
    "def get_products():\n",
    "    html = browser.page_source\n",
    "    doc = pq(html)\n",
    "    items = doc('#mainsrp-itemlist .items .item').items()\n",
    "    products = []\n",
    "    for item in items:\n",
    "        product = {\n",
    "            'image': item.find('.pic .img').attr('data-src'),\n",
    "            'price': item.find('.price').text(),\n",
    "            'deal': item.find('deal-cnt').text()\n",
    "        }\n",
    "        products.append(product)\n",
    "    print(products)\n",
    "\n",
    "\n",
    "MAX_PAGE = 100\n",
    "def main():\n",
    "    for i in range(1,MAX_PAGE+1):\n",
    "        index_Page(i)\n",
    "\n",
    "main()"
   ]
  },
  {
   "cell_type": "code",
   "execution_count": null,
   "metadata": {},
   "outputs": [],
   "source": []
  }
 ],
 "metadata": {
  "kernelspec": {
   "display_name": "Python 3",
   "language": "python",
   "name": "python3"
  },
  "language_info": {
   "codemirror_mode": {
    "name": "ipython",
    "version": 3
   },
   "file_extension": ".py",
   "mimetype": "text/x-python",
   "name": "python",
   "nbconvert_exporter": "python",
   "pygments_lexer": "ipython3",
   "version": "3.5.6"
  }
 },
 "nbformat": 4,
 "nbformat_minor": 4
}
