{
 "cells": [
  {
   "cell_type": "code",
   "execution_count": null,
   "metadata": {},
   "outputs": [],
   "source": [
    "from selenium import webdriver\n",
    "from selenium.webdriver.common.by import By\n",
    "from selenium.webdriver.common.keys import Keys\n",
    "from selenium.webdriver.support import expected_conditions as EC\n",
    "from selenium.webdriver.support.wait import WebDriverWait"
   ]
  },
  {
   "cell_type": "code",
   "execution_count": 4,
   "metadata": {},
   "outputs": [
    {
     "ename": "TypeError",
     "evalue": "__init__() takes 2 positional arguments but 3 were given",
     "output_type": "error",
     "traceback": [
      "\u001b[0;31m---------------------------------------------------------------------------\u001b[0m",
      "\u001b[0;31mTypeError\u001b[0m                                 Traceback (most recent call last)",
      "\u001b[0;32m<ipython-input-4-890ef16cb186>\u001b[0m in \u001b[0;36m<module>\u001b[0;34m()\u001b[0m\n\u001b[1;32m      6\u001b[0m     \u001b[0minput\u001b[0m\u001b[0;34m.\u001b[0m\u001b[0msend_keys\u001b[0m\u001b[0;34m(\u001b[0m\u001b[0mKeys\u001b[0m\u001b[0;34m.\u001b[0m\u001b[0mENTER\u001b[0m\u001b[0;34m)\u001b[0m\u001b[0;34m\u001b[0m\u001b[0m\n\u001b[1;32m      7\u001b[0m     \u001b[0mwait\u001b[0m \u001b[0;34m=\u001b[0m \u001b[0mWebDriverWait\u001b[0m\u001b[0;34m(\u001b[0m\u001b[0mbrowser\u001b[0m\u001b[0;34m,\u001b[0m\u001b[0;36m10\u001b[0m\u001b[0;34m)\u001b[0m\u001b[0;34m\u001b[0m\u001b[0m\n\u001b[0;32m----> 8\u001b[0;31m     \u001b[0mwait\u001b[0m\u001b[0;34m.\u001b[0m\u001b[0muntil\u001b[0m\u001b[0;34m(\u001b[0m\u001b[0mEC\u001b[0m\u001b[0;34m.\u001b[0m\u001b[0mpresence_of_element_located\u001b[0m\u001b[0;34m(\u001b[0m\u001b[0mBy\u001b[0m\u001b[0;34m.\u001b[0m\u001b[0mID\u001b[0m\u001b[0;34m,\u001b[0m\u001b[0;34m'content_left'\u001b[0m\u001b[0;34m)\u001b[0m\u001b[0;34m)\u001b[0m\u001b[0;34m\u001b[0m\u001b[0m\n\u001b[0m\u001b[1;32m      9\u001b[0m     \u001b[0mprint\u001b[0m\u001b[0;34m(\u001b[0m\u001b[0mbrowser\u001b[0m\u001b[0;34m.\u001b[0m\u001b[0mcurrent_url\u001b[0m\u001b[0;34m)\u001b[0m\u001b[0;34m\u001b[0m\u001b[0m\n\u001b[1;32m     10\u001b[0m     \u001b[0mprint\u001b[0m\u001b[0;34m(\u001b[0m\u001b[0mbrowser\u001b[0m\u001b[0;34m.\u001b[0m\u001b[0mget_cookies\u001b[0m\u001b[0;34m(\u001b[0m\u001b[0;34m)\u001b[0m\u001b[0;34m)\u001b[0m\u001b[0;34m\u001b[0m\u001b[0m\n",
      "\u001b[0;31mTypeError\u001b[0m: __init__() takes 2 positional arguments but 3 were given"
     ]
    }
   ],
   "source": [
    "browser = webdriver.Chrome()\n",
    "try:\n",
    "    browser.get('https:www.baidu.com')\n",
    "    input = browser.find_element_by_id('kw')\n",
    "    input.send_keys('Python')\n",
    "    input.send_keys(Keys.ENTER)\n",
    "    wait = WebDriverWait(browser,10)\n",
    "    wait.until(EC.presence_of_element_located(By.ID,'content_left'))\n",
    "    print(browser.current_url)\n",
    "    print(browser.get_cookies())\n",
    "    print(browser.page_source)\n",
    "finally:\n",
    "    browser.close()"
   ]
  },
  {
   "cell_type": "code",
   "execution_count": 12,
   "metadata": {},
   "outputs": [],
   "source": [
    "import requests\n",
    "\n",
    "\n",
    "def send_request():\n",
    "    # Request\n",
    "    # POST https://www.revolve.com/r/ajax/GetSwatchData.jsp\n",
    "\n",
    "    try:\n",
    "        response = requests.post(\n",
    "            url=\"https://www.revolve.com/r/ajax/GetSwatchData.jsp\",\n",
    "            headers={\n",
    "                \"Content-Type\": \"application/x-www-form-urlencoded; charset=utf-8\",\n",
    "            },\n",
    "            data={\n",
    "                \"product[]\": \"FREE-WP304\",\n",
    "            },\n",
    "        )\n",
    "        print('Response HTTP Status Code: {status_code}'.format(\n",
    "            status_code=response.status_code))\n",
    "        print('Response HTTP Response Body: {content}'.format(\n",
    "            content=response.content))\n",
    "    except requests.exceptions.RequestException:\n",
    "        print('HTTP Request failed')"
   ]
  },
  {
   "cell_type": "code",
   "execution_count": 14,
   "metadata": {},
   "outputs": [],
   "source": [
    "import requests\n",
    "\n",
    "\n",
    "def send_request():\n",
    "    # Request\n",
    "    # POST https://www.revolve.com/r/ajax/GetSwatchData.jsp\n",
    "\n",
    "    try:\n",
    "        response = requests.post(\n",
    "            url=\"https://www.revolve.com/r/ajax/GetSwatchData.jsp\",\n",
    "            headers={\n",
    "              \"Content-Type\": \"application/x-www-form-urlencoded; charset=utf-8\",\n",
    "                #'Content-Type': \"application/json\"\n",
    "            },\n",
    "            data=#json.dumps(\n",
    "            {\n",
    "                \"product[]\": \"FREE-WP304\",\n",
    "            },\n",
    "        )\n",
    "        print('Response HTTP Status Code: {status_code}'.format(\n",
    "            status_code=response.status_code))\n",
    "        print('Response HTTP Response Body: {content}'.format(\n",
    "            content=response.content))\n",
    "    except requests.exceptions.RequestException:\n",
    "        print('HTTP Request failed')\n",
    "        "
   ]
  },
  {
   "cell_type": "code",
   "execution_count": 17,
   "metadata": {},
   "outputs": [
    {
     "name": "stdout",
     "output_type": "stream",
     "text": [
      "Response HTTP Status Code: 200\n",
      "Response HTTP Response Body: b'{}\\n\\n\\n\\n\\n\\n\\n\\n\\n\\n\\n\\n\\n\\n\\n\\n\\n\\n'\n"
     ]
    }
   ],
   "source": [
    "send_request()\n"
   ]
  },
  {
   "cell_type": "code",
   "execution_count": 5,
   "metadata": {},
   "outputs": [],
   "source": [
    "import scrapy"
   ]
  },
  {
   "cell_type": "code",
   "execution_count": 6,
   "metadata": {},
   "outputs": [],
   "source": [
    "response = scrapy.Request('https://www.revolve.com/r/ajax/GetSwatchData.jsp')"
   ]
  },
  {
   "cell_type": "code",
   "execution_count": 16,
   "metadata": {},
   "outputs": [],
   "source": [
    "import json"
   ]
  },
  {
   "cell_type": "code",
   "execution_count": null,
   "metadata": {},
   "outputs": [],
   "source": []
  }
 ],
 "metadata": {
  "kernelspec": {
   "display_name": "Python 3",
   "language": "python",
   "name": "python3"
  },
  "language_info": {
   "codemirror_mode": {
    "name": "ipython",
    "version": 3
   },
   "file_extension": ".py",
   "mimetype": "text/x-python",
   "name": "python",
   "nbconvert_exporter": "python",
   "pygments_lexer": "ipython3",
   "version": "3.5.4"
  }
 },
 "nbformat": 4,
 "nbformat_minor": 2
}
